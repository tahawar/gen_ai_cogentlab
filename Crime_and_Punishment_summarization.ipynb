{
  "cells": [
    {
      "cell_type": "markdown",
      "id": "c6306798",
      "metadata": {
        "id": "c6306798"
      },
      "source": [
        "# Crime_and_Punishment_summarization\n",
        "\n"
      ]
    },
    {
      "cell_type": "code",
      "execution_count": 42,
      "id": "b0e7dd3f",
      "metadata": {
        "id": "b0e7dd3f"
      },
      "outputs": [],
      "source": [
        "# installation required\n",
        "# ! pip install langchain\n",
        "# ! pip install unstructured\n",
        "# ! pip install pdf2image\n",
        "# ! pip install pdfminer\n",
        "# ! pip install pdfminer.six\n",
        "# ! pip install markdown\n",
        "# ! pip install openai\n",
        "# ! pip install reportlab\n",
        "# !pip install pypdf"
      ]
    },
    {
      "cell_type": "markdown",
      "id": "9a12792d",
      "metadata": {
        "id": "9a12792d"
      },
      "source": [
        "# OpenAI API Setup"
      ]
    },
    {
      "cell_type": "code",
      "execution_count": 32,
      "id": "579d950a",
      "metadata": {
        "id": "579d950a"
      },
      "outputs": [],
      "source": [
        "import configparser\n",
        "import openai\n",
        "\n",
        "# Create a ConfigParser object\n",
        "config = configparser.ConfigParser()\n",
        "\n",
        "# Read the config.ini file\n",
        "config.read('config.ini')\n",
        "\n",
        "my_openai_key = config['OPENAI']['OPENAI_API_KEY']\n",
        "openai.api_key = my_openai_key\n",
        "os.environ['OPENAI_API_KEY'] = my_openai_key"
      ]
    },
    {
      "cell_type": "markdown",
      "id": "2071cc6b",
      "metadata": {
        "id": "2071cc6b"
      },
      "source": [
        "# Data Loading"
      ]
    },
    {
      "cell_type": "code",
      "execution_count": 43,
      "id": "c1c2caf8",
      "metadata": {
        "id": "c1c2caf8"
      },
      "outputs": [],
      "source": [
        "from langchain.document_loaders import PyPDFLoader\n",
        "import re\n",
        "import os\n",
        "import glob\n",
        "import markdown\n",
        "from langchain.text_splitter import MarkdownHeaderTextSplitter\n",
        "from langchain.text_splitter import RecursiveCharacterTextSplitter\n",
        "from langchain.chains.llm import LLMChain\n",
        "from langchain.prompts import PromptTemplate\n",
        "from langchain.chains.combine_documents.stuff import StuffDocumentsChain\n",
        "from langchain.callbacks import get_openai_callback\n",
        "from langchain.chat_models import ChatOpenAI\n",
        "from reportlab.lib.pagesizes import letter\n",
        "from reportlab.platypus import SimpleDocTemplate, Paragraph, Spacer\n",
        "from reportlab.lib.styles import getSampleStyleSheet"
      ]
    },
    {
      "cell_type": "code",
      "execution_count": 4,
      "id": "5bc1e4db",
      "metadata": {
        "id": "5bc1e4db"
      },
      "outputs": [],
      "source": [
        "loader = PyPDFLoader(\"/content/crime-and-punishment.pdf\")\n",
        "data = loader.load_and_split()"
      ]
    },
    {
      "cell_type": "code",
      "source": [
        "data[2]"
      ],
      "metadata": {
        "colab": {
          "base_uri": "https://localhost:8080/"
        },
        "id": "f3GnnOyJEdYD",
        "outputId": "2be0573d-e30e-4f83-bc5e-dba143654be7"
      },
      "id": "f3GnnOyJEdYD",
      "execution_count": 5,
      "outputs": [
        {
          "output_type": "execute_result",
          "data": {
            "text/plain": [
              "Document(page_content='\\x18 Free eBooks at Planet eBook.com(that ‘stern and just man,’ as Maurice Baring calls him) this \\nwas enough, and he was condemned to death. After eight \\nmonths’ imprisonment he was with twenty-one others tak -\\nen out to the Semyonovsky Square to be shot. Writing to his \\nbrother Mihail, Dostoevsky says: ‘They snapped words over \\nour heads, and they made us put on the white shirts worn by \\npersons condemned to death. Thereupon we were bound in \\nthrees to stakes, to suffer execution. Being the third in the \\nrow, I concluded I had only a few minutes of life before me. \\nI thought of you and your dear ones and I contrived to kiss \\nPlestcheiev and Dourov, who were next to me, and to bid \\nthem farewell. Suddenly the troops beat a tattoo, we were \\nunbound, brought back upon the scaffold, and informed \\nthat his Majesty had spared us our lives.’ The sentence was \\ncommuted to hard labour.\\nOne of the prisoners, Grigoryev, went mad as soon as he \\nwas untied, and never regained his sanity.\\nThe intense suffering of this experience left a lasting \\nstamp on Dostoevsky’s mind. Though his religious temper \\nled him in the end to accept every suffering with resignation \\nand to regard it as a blessing in his own case, he constantly \\nrecurs to the subject in his writings. He describes the awful \\nagony of the condemned man and insists on the cruelty of \\ninflicting such torture. Then followed four years of penal \\nservitude, spent in the company of common criminals in \\nSiberia, where he began the ‘Dead House,’ and some years \\nof service in a disciplinary battalion.\\nHe had shown signs of some obscure nervous disease be -\\nfore his arrest and this now developed into violent attacks of', metadata={'source': '/content/crime-and-punishment.pdf', 'page': 2})"
            ]
          },
          "metadata": {},
          "execution_count": 5
        }
      ]
    },
    {
      "cell_type": "code",
      "execution_count": 6,
      "id": "1b314f3e",
      "metadata": {
        "colab": {
          "base_uri": "https://localhost:8080/"
        },
        "id": "1b314f3e",
        "outputId": "cc6a5798-28bb-4a4d-dc3f-546b3154a266"
      },
      "outputs": [
        {
          "output_type": "execute_result",
          "data": {
            "text/plain": [
              "dict_keys(['page_content', 'metadata', 'type'])"
            ]
          },
          "metadata": {},
          "execution_count": 6
        }
      ],
      "source": [
        "data[0].dict().keys()"
      ]
    },
    {
      "cell_type": "code",
      "execution_count": 7,
      "id": "645195a0",
      "metadata": {
        "colab": {
          "base_uri": "https://localhost:8080/",
          "height": 174
        },
        "id": "645195a0",
        "outputId": "44211720-4f88-49b5-e573-77033ef59265"
      },
      "outputs": [
        {
          "output_type": "execute_result",
          "data": {
            "text/plain": [
              "'Crime and Punishment \\x18Translator’s Preface\\nA few words about Dostoevsky himself may help the Eng -\\nlish reader to understand his work.\\nDostoevsky was the son of a doctor. His parents were \\nvery hard- working and deeply religious people, but so poor \\nthat they lived with their five children in only two rooms. \\nThe father and mother spent their evenings in reading aloud \\nto their children, generally from books of a serious charac -\\nter.\\nThough always sickly and delicate Dostoevsky came out \\nthird in the final examination of the Petersburg school of \\nEngineering. There he had already begun his first work, \\n‘Poor Folk.’\\nThis story was published by the poet Nekrassov in his \\nreview and was received with acclamations. The shy, un -\\nknown youth found himself instantly something of a \\ncelebrity. A brilliant and successful career seemed to open \\nbefore him, but those hopes were soon dashed. In 1849 he \\nwas arrested.\\nThough neither by temperament nor conviction a revolu -\\ntionist, Dostoevsky was'"
            ],
            "application/vnd.google.colaboratory.intrinsic+json": {
              "type": "string"
            }
          },
          "metadata": {},
          "execution_count": 7
        }
      ],
      "source": [
        "data[1].dict()[\"page_content\"][:1000]"
      ]
    },
    {
      "cell_type": "code",
      "source": [
        "def get_full_text_from_documents(documents):\n",
        "    full_text = ''\n",
        "\n",
        "    for document in documents:\n",
        "        # Extract the 'page_content' from each Document\n",
        "        page_text = document.dict()[\"page_content\"]\n",
        "        full_text += page_text + '\\n\\n'  # Add a newline for separation between pages\n",
        "\n",
        "    return full_text"
      ],
      "metadata": {
        "id": "ovWyIhFsGbh0"
      },
      "id": "ovWyIhFsGbh0",
      "execution_count": 8,
      "outputs": []
    },
    {
      "cell_type": "code",
      "source": [
        "full_data= get_full_text_from_documents(data)\n",
        "print(\"Total characters: {}\".format(len(full_data)))"
      ],
      "metadata": {
        "colab": {
          "base_uri": "https://localhost:8080/"
        },
        "id": "8mPuo8p2Ge8h",
        "outputId": "d2251fe7-558d-4d32-ec91-217efd0800e6"
      },
      "id": "8mPuo8p2Ge8h",
      "execution_count": 9,
      "outputs": [
        {
          "output_type": "stream",
          "name": "stdout",
          "text": [
            "Total characters: 1173038\n"
          ]
        }
      ]
    },
    {
      "cell_type": "markdown",
      "id": "edd41fb7",
      "metadata": {
        "id": "edd41fb7"
      },
      "source": [
        "# Data Preprocessing"
      ]
    },
    {
      "cell_type": "code",
      "source": [
        "# Function to clean and preprocess text\n",
        "def preprocess_text(text):\n",
        "    # Define patterns to be removed and their replacements\n",
        "    patterns_to_remove = [\n",
        "        (r'\\n\\d+\\x18\\x18\\n', ''),\n",
        "        (r'\\nFree eBooks at Planet eBook.com\\n', ''),\n",
        "        (r'\\nCrime and Punishment\\n', ''),\n",
        "        (r'\\n\\x18\\x18\\x18\\n', ''),\n",
        "        (r'\\n\\x18', ''),\n",
        "        (r'\\n\\x180', ''),\n",
        "        (r'\\n\\x181', ''),\n",
        "        (r'\\n\\x18\\x18', ''),\n",
        "        (r'\\n\\x18\\n', ' ')\n",
        "    ]\n",
        "\n",
        "    # Apply each pattern removal\n",
        "    for pattern, replacement in patterns_to_remove:\n",
        "        text = re.sub(pattern, replacement, text)\n",
        "\n",
        "    # Removing extra line breaks\n",
        "    text = text.replace('\\n\\n', '\\n')\n",
        "\n",
        "    return text"
      ],
      "metadata": {
        "id": "tO8xU_2c2Hhj"
      },
      "id": "tO8xU_2c2Hhj",
      "execution_count": 11,
      "outputs": []
    },
    {
      "cell_type": "code",
      "source": [
        "def detect_part_boundaries(text):\n",
        "    # Manually identified markers for the start of each part\n",
        "    part_markers = {\n",
        "        \"Translator’s Preface\": \"A few words about Dostoevsky\",\n",
        "        \"Part I\": \"On an exceptionally hot evening\",\n",
        "        \"Part II\": \"So he lay a very long while\",\n",
        "        \"Part III\": \"Raskolnikov got up, and sat down on the sofa\",\n",
        "        \"Part IV\": \"Can this be still a dream?\",\n",
        "        \"Part V\": \"The morning that followed the fateful\",\n",
        "        \"Part VI\": \"A strange period began for Raskolnikov\",\n",
        "        # Add markers for all parts\n",
        "    }\n",
        "\n",
        "    parts = []\n",
        "    for part, start_marker in part_markers.items():\n",
        "        start_index = text.find(start_marker)\n",
        "        end_index = text.find(next(iter(part_markers.values()), \"\"), start_index + 1)\n",
        "        if end_index == -1:  # If it's the last part\n",
        "            end_index = len(text)\n",
        "\n",
        "        part_text = text[start_index:end_index].strip()\n",
        "        parts.append((part, part_text))\n",
        "\n",
        "    return parts"
      ],
      "metadata": {
        "id": "98LcqP-RqLZU"
      },
      "id": "98LcqP-RqLZU",
      "execution_count": 12,
      "outputs": []
    },
    {
      "cell_type": "code",
      "source": [
        "def detect_chapter_boundaries(part_text):\n",
        "    # Adjust the regex pattern to match the chapter headings in your text\n",
        "    chapter_pattern = r'\\bChapter\\s+[IVXLCDM]+\\b'\n",
        "\n",
        "    # Split the part text into chapters using the chapter pattern\n",
        "    potential_chapters = re.split(chapter_pattern, part_text)\n",
        "\n",
        "    # Filter out any empty or irrelevant splits and remove any leading or trailing whitespace\n",
        "    chapters = [chapter.strip() for chapter in potential_chapters if chapter.strip()]\n",
        "\n",
        "    return chapters\n",
        "\n",
        "\n"
      ],
      "metadata": {
        "id": "5DpYiUpqvqPw"
      },
      "id": "5DpYiUpqvqPw",
      "execution_count": 13,
      "outputs": []
    },
    {
      "cell_type": "code",
      "source": [
        "# Preprocess the text\n",
        "processed_text = preprocess_text(full_data)"
      ],
      "metadata": {
        "id": "bHxEnyF_Mky5"
      },
      "id": "bHxEnyF_Mky5",
      "execution_count": 14,
      "outputs": []
    },
    {
      "cell_type": "code",
      "source": [
        "# Detect parts\n",
        "parts = detect_part_boundaries(processed_text)"
      ],
      "metadata": {
        "id": "gJlGWK3zMks4"
      },
      "id": "gJlGWK3zMks4",
      "execution_count": 15,
      "outputs": []
    },
    {
      "cell_type": "code",
      "source": [
        "# parts[0]"
      ],
      "metadata": {
        "id": "5itIIPwlMkoQ"
      },
      "id": "5itIIPwlMkoQ",
      "execution_count": null,
      "outputs": []
    },
    {
      "cell_type": "code",
      "source": [
        "# Function to find a specific part by title\n",
        "def get_part_content(parts, part_title):\n",
        "    for title, content in parts:\n",
        "        if title == part_title:\n",
        "            return content\n",
        "    return \"Part not found.\"\n",
        "\n",
        "\n",
        "\n",
        "# Print a snippet of Part IV content\n",
        "print( get_part_content(parts, \"Part III\")[:1000])"
      ],
      "metadata": {
        "colab": {
          "base_uri": "https://localhost:8080/"
        },
        "id": "ArBfEba1NOWW",
        "outputId": "8531a5bc-cb27-446c-f939-24796f805c09"
      },
      "id": "ArBfEba1NOWW",
      "execution_count": 16,
      "outputs": [
        {
          "output_type": "stream",
          "name": "stdout",
          "text": [
            "Raskolnikov got up, and sat down on the sofa. He waved \n",
            "his hand weakly to Razumihin to cut short the flow of \n",
            "warm and incoherent consolations he was addressing to his \n",
            "mother and sister, took them both by the hand and for a \n",
            "minute or two gazed from one to the other without speak -\n",
            "ing. His mother was alarmed by his expression. It revealed \n",
            "an emotion agonisingly poignant, and at the same time \n",
            "something immovable, almost insane. Pulcheria Alexan -\n",
            "drovna began to cry.\n",
            "Avdotya Romanovna was pale; her hand trembled in her \n",
            "brother’s.\n",
            "‘Go home … with him,’ he said in a broken voice, point -\n",
            "ing to Razumihin, ‘good-bye till to-morrow; to-morrow \n",
            "everything … Is it long since you arrived?’\n",
            "‘This evening, Rodya,’ answered Pulcheria Alexandrov -\n",
            "na, ‘the train was awfully late. But, Rodya, nothing would \n",
            "induce me to leave you now! I will spend the night here, \n",
            "near you …’\n",
            "‘Don’t torture me!’ he said with a gesture of irritation.\n",
            "‘I will stay with him,’ cried Razumihin, ‘I won’t leave him \n"
          ]
        }
      ]
    },
    {
      "cell_type": "code",
      "source": [
        "def extract_chapters_from_part(part_text):\n",
        "    chapters = detect_chapter_boundaries(part_text)\n",
        "    return chapters"
      ],
      "metadata": {
        "id": "Pzbm2YzwwcFH"
      },
      "id": "Pzbm2YzwwcFH",
      "execution_count": 17,
      "outputs": []
    },
    {
      "cell_type": "code",
      "source": [
        "part_i_content = get_part_content(parts, \"Part III\")\n",
        "\n",
        "# Extract chapters from Part I\n",
        "chapters_in_part_i = extract_chapters_from_part(part_i_content)\n",
        "\n",
        "# Print each chapter's beginning for verification\n",
        "for i, chapter in enumerate(chapters_in_part_i, start=1):\n",
        "    print(f\"Chapter {i} beginning snippet:\\n{chapter[:200]}\\n\")"
      ],
      "metadata": {
        "colab": {
          "base_uri": "https://localhost:8080/"
        },
        "id": "5k6t1S0Wwdf3",
        "outputId": "6d4abd0f-9aeb-4aad-8955-91e69e8c6285"
      },
      "id": "5k6t1S0Wwdf3",
      "execution_count": 18,
      "outputs": [
        {
          "output_type": "stream",
          "name": "stdout",
          "text": [
            "Chapter 1 beginning snippet:\n",
            "Raskolnikov got up, and sat down on the sofa. He waved \n",
            "his hand weakly to Razumihin to cut short the flow of \n",
            "warm and incoherent consolations he was addressing to his \n",
            "mother and sister, took them b\n",
            "\n",
            "Chapter 2 beginning snippet:\n",
            "‘He is well, quite well!’ Zossimov cried cheerfully as \n",
            "they entered.\n",
            "He had come in ten minutes earlier and was sitting in the \n",
            "same place as before, on the sofa. Raskolnikov was sitting in \n",
            "the oppo\n",
            "\n",
            "Chapter 3 beginning snippet:\n",
            "At that moment the door was softly opened, and a young \n",
            "girl walked into the room, looking timidly about her. \n",
            "Everyone turned towards her with surprise and curiosity. \n",
            "At first sight, Raskolnikov did\n",
            "\n",
            "Chapter 4 beginning snippet:\n",
            "It was nearly eight o’clock. The two young men hurried to \n",
            "Bakaleyev’s, to arrive before Luzhin.\n",
            "‘Why, who was that?’ asked Razumihin, as soon as they \n",
            "were in the street.\n",
            "‘It was Svidrigaïlov, that l\n",
            "\n",
            "Chapter 5 beginning snippet:\n",
            "The fact was that up to the last moment he had never ex -\n",
            "pected such an ending; he had been overbearing to the \n",
            "last degree, never dreaming that two destitute and defence -\n",
            "less women could escape fr\n",
            "\n",
            "Chapter 6 beginning snippet:\n",
            "Raskolnikov went straight to the house on the canal bank \n",
            "where Sonia lived. It was an old green house of three \n",
            "storeys. He found the porter and obtained from him vague \n",
            "directions as to the whereabo\n",
            "\n",
            "Chapter 7 beginning snippet:\n",
            "The morning that followed the fateful interview with \n",
            "Dounia and her mother brought sobering influenc -\n",
            "es to bear on Pyotr Petrovitch. Intensely unpleasant as it \n",
            "was, he was forced little by little \n",
            "\n",
            "Chapter 8 beginning snippet:\n",
            "The same day, about seven o’clock in the evening, Ras -\n",
            "kolnikov was on his way to his mother’s and sister’s \n",
            "lodging—the lodging in Bakaleyev’s house which Razumi -\n",
            "hin had found for them. The stairs\n",
            "\n"
          ]
        }
      ]
    },
    {
      "cell_type": "code",
      "source": [
        "# Assuming you have a list 'parts' containing tuples of (part_title, part_text)\n",
        "for part_title, part_text in parts:\n",
        "    print(f\"Processing {part_title}\")\n",
        "\n",
        "    chapters = detect_chapter_boundaries(part_text)\n",
        "    for i, chapter in enumerate(chapters, start=1):\n",
        "        print(f\"Chapter {i} beginning snippet in {part_title}:\\n{chapter[:200]}\\n\")\n"
      ],
      "metadata": {
        "colab": {
          "base_uri": "https://localhost:8080/"
        },
        "id": "5f1-1dmjsyl5",
        "outputId": "a1c09002-fd93-4502-d25e-9b1ba74a775f"
      },
      "id": "5f1-1dmjsyl5",
      "execution_count": 19,
      "outputs": [
        {
          "output_type": "stream",
          "name": "stdout",
          "text": [
            "Processing Translator’s Preface\n",
            "Chapter 1 beginning snippet in Translator’s Preface:\n",
            "A few words about Dostoevsky himself may help the Eng -\n",
            "lish reader to understand his work.\n",
            "Dostoevsky was the son of a doctor. His parents were \n",
            "very hard- working and deeply religious people, but so\n",
            "\n",
            "Chapter 2 beginning snippet in Translator’s Preface:\n",
            "He waked up late next day after a broken sleep. But his \n",
            "sleep had not refreshed him; he waked up bilious, ir -\n",
            "ritable, ill-tempered, and looked with hatred at his room. \n",
            "It was a tiny cupboard of a \n",
            "\n",
            "Chapter 3 beginning snippet in Translator’s Preface:\n",
            "Later on Raskolnikov happened to find out why the huck -\n",
            "ster and his wife had invited Lizaveta. It was a very \n",
            "ordinary matter and there was nothing exceptional about \n",
            "it. A family who had come to th\n",
            "\n",
            "Chapter 4 beginning snippet in Translator’s Preface:\n",
            "The door was as before opened a tiny crack, and again \n",
            "two sharp and suspicious eyes stared at him out of the \n",
            "darkness. Then Raskolnikov lost his head and nearly made \n",
            "a great mistake.\n",
            "Fearing the ol\n",
            "\n",
            "Chapter 5 beginning snippet in Translator’s Preface:\n",
            "‘ And what if there has been a search already? What if I \n",
            "find them in my room?’\n",
            "But here was his room. Nothing and no one in it. No one \n",
            "had peeped in. Even Nastasya had not touched it. But heav -\n",
            "en\n",
            "\n",
            "Chapter 6 beginning snippet in Translator’s Preface:\n",
            "This was a gentleman no longer young, of a stiff and port -\n",
            "ly appearance, and a cautious and sour countenance. He \n",
            "began by stopping short in the doorway, staring about him \n",
            "with offensive and undisg\n",
            "\n",
            "Chapter 7 beginning snippet in Translator’s Preface:\n",
            "But as soon as she went out, he got up, latched the door, \n",
            "undid the parcel which Razumihin had brought in that \n",
            "evening and had tied up again and began dressing. Strange \n",
            "to say, he seemed immediatel\n",
            "\n",
            "Chapter 8 beginning snippet in Translator’s Preface:\n",
            "‘He is well, quite well!’ Zossimov cried cheerfully as \n",
            "they entered.\n",
            "He had come in ten minutes earlier and was sitting in the \n",
            "same place as before, on the sofa. Raskolnikov was sitting in \n",
            "the oppo\n",
            "\n",
            "Chapter 9 beginning snippet in Translator’s Preface:\n",
            "At that moment the door was softly opened, and a young \n",
            "girl walked into the room, looking timidly about her. \n",
            "Everyone turned towards her with surprise and curiosity. \n",
            "At first sight, Raskolnikov did\n",
            "\n",
            "Chapter 10 beginning snippet in Translator’s Preface:\n",
            "It was nearly eight o’clock. The two young men hurried to \n",
            "Bakaleyev’s, to arrive before Luzhin.\n",
            "‘Why, who was that?’ asked Razumihin, as soon as they \n",
            "were in the street.\n",
            "‘It was Svidrigaïlov, that l\n",
            "\n",
            "Chapter 11 beginning snippet in Translator’s Preface:\n",
            "The fact was that up to the last moment he had never ex -\n",
            "pected such an ending; he had been overbearing to the \n",
            "last degree, never dreaming that two destitute and defence -\n",
            "less women could escape fr\n",
            "\n",
            "Chapter 12 beginning snippet in Translator’s Preface:\n",
            "Raskolnikov went straight to the house on the canal bank \n",
            "where Sonia lived. It was an old green house of three \n",
            "storeys. He found the porter and obtained from him vague \n",
            "directions as to the whereabo\n",
            "\n",
            "Chapter 13 beginning snippet in Translator’s Preface:\n",
            "The morning that followed the fateful interview with \n",
            "Dounia and her mother brought sobering influenc -\n",
            "es to bear on Pyotr Petrovitch. Intensely unpleasant as it \n",
            "was, he was forced little by little \n",
            "\n",
            "Chapter 14 beginning snippet in Translator’s Preface:\n",
            "The same day, about seven o’clock in the evening, Ras -\n",
            "kolnikov was on his way to his mother’s and sister’s \n",
            "lodging—the lodging in Bakaleyev’s house which Razumi -\n",
            "hin had found for them. The stairs\n",
            "\n",
            "Processing Part I\n",
            "Chapter 1 beginning snippet in Part I:\n",
            "On an exceptionally hot evening early in July a young \n",
            "man came out of the garret in which he lodged in S. \n",
            "Place and walked slowly, as though in hesitation, towards \n",
            "K. bridge.\n",
            "He had successfully av\n",
            "\n",
            "Chapter 2 beginning snippet in Part I:\n",
            "He waked up late next day after a broken sleep. But his \n",
            "sleep had not refreshed him; he waked up bilious, ir -\n",
            "ritable, ill-tempered, and looked with hatred at his room. \n",
            "It was a tiny cupboard of a \n",
            "\n",
            "Chapter 3 beginning snippet in Part I:\n",
            "Later on Raskolnikov happened to find out why the huck -\n",
            "ster and his wife had invited Lizaveta. It was a very \n",
            "ordinary matter and there was nothing exceptional about \n",
            "it. A family who had come to th\n",
            "\n",
            "Chapter 4 beginning snippet in Part I:\n",
            "The door was as before opened a tiny crack, and again \n",
            "two sharp and suspicious eyes stared at him out of the \n",
            "darkness. Then Raskolnikov lost his head and nearly made \n",
            "a great mistake.\n",
            "Fearing the ol\n",
            "\n",
            "Chapter 5 beginning snippet in Part I:\n",
            "‘ And what if there has been a search already? What if I \n",
            "find them in my room?’\n",
            "But here was his room. Nothing and no one in it. No one \n",
            "had peeped in. Even Nastasya had not touched it. But heav -\n",
            "en\n",
            "\n",
            "Chapter 6 beginning snippet in Part I:\n",
            "This was a gentleman no longer young, of a stiff and port -\n",
            "ly appearance, and a cautious and sour countenance. He \n",
            "began by stopping short in the doorway, staring about him \n",
            "with offensive and undisg\n",
            "\n",
            "Chapter 7 beginning snippet in Part I:\n",
            "But as soon as she went out, he got up, latched the door, \n",
            "undid the parcel which Razumihin had brought in that \n",
            "evening and had tied up again and began dressing. Strange \n",
            "to say, he seemed immediatel\n",
            "\n",
            "Chapter 8 beginning snippet in Part I:\n",
            "‘He is well, quite well!’ Zossimov cried cheerfully as \n",
            "they entered.\n",
            "He had come in ten minutes earlier and was sitting in the \n",
            "same place as before, on the sofa. Raskolnikov was sitting in \n",
            "the oppo\n",
            "\n",
            "Chapter 9 beginning snippet in Part I:\n",
            "At that moment the door was softly opened, and a young \n",
            "girl walked into the room, looking timidly about her. \n",
            "Everyone turned towards her with surprise and curiosity. \n",
            "At first sight, Raskolnikov did\n",
            "\n",
            "Chapter 10 beginning snippet in Part I:\n",
            "It was nearly eight o’clock. The two young men hurried to \n",
            "Bakaleyev’s, to arrive before Luzhin.\n",
            "‘Why, who was that?’ asked Razumihin, as soon as they \n",
            "were in the street.\n",
            "‘It was Svidrigaïlov, that l\n",
            "\n",
            "Chapter 11 beginning snippet in Part I:\n",
            "The fact was that up to the last moment he had never ex -\n",
            "pected such an ending; he had been overbearing to the \n",
            "last degree, never dreaming that two destitute and defence -\n",
            "less women could escape fr\n",
            "\n",
            "Chapter 12 beginning snippet in Part I:\n",
            "Raskolnikov went straight to the house on the canal bank \n",
            "where Sonia lived. It was an old green house of three \n",
            "storeys. He found the porter and obtained from him vague \n",
            "directions as to the whereabo\n",
            "\n",
            "Chapter 13 beginning snippet in Part I:\n",
            "The morning that followed the fateful interview with \n",
            "Dounia and her mother brought sobering influenc -\n",
            "es to bear on Pyotr Petrovitch. Intensely unpleasant as it \n",
            "was, he was forced little by little \n",
            "\n",
            "Chapter 14 beginning snippet in Part I:\n",
            "The same day, about seven o’clock in the evening, Ras -\n",
            "kolnikov was on his way to his mother’s and sister’s \n",
            "lodging—the lodging in Bakaleyev’s house which Razumi -\n",
            "hin had found for them. The stairs\n",
            "\n",
            "Processing Part II\n",
            "Chapter 1 beginning snippet in Part II:\n",
            "So he lay a very long while. Now and then he seemed to \n",
            "wake up, and at such moments he noticed that it was far \n",
            "into the night, but it did not occur to him to get up. At last \n",
            "he noticed that it was \n",
            "\n",
            "Chapter 2 beginning snippet in Part II:\n",
            "‘ And what if there has been a search already? What if I \n",
            "find them in my room?’\n",
            "But here was his room. Nothing and no one in it. No one \n",
            "had peeped in. Even Nastasya had not touched it. But heav -\n",
            "en\n",
            "\n",
            "Chapter 3 beginning snippet in Part II:\n",
            "This was a gentleman no longer young, of a stiff and port -\n",
            "ly appearance, and a cautious and sour countenance. He \n",
            "began by stopping short in the doorway, staring about him \n",
            "with offensive and undisg\n",
            "\n",
            "Chapter 4 beginning snippet in Part II:\n",
            "But as soon as she went out, he got up, latched the door, \n",
            "undid the parcel which Razumihin had brought in that \n",
            "evening and had tied up again and began dressing. Strange \n",
            "to say, he seemed immediatel\n",
            "\n",
            "Chapter 5 beginning snippet in Part II:\n",
            "‘He is well, quite well!’ Zossimov cried cheerfully as \n",
            "they entered.\n",
            "He had come in ten minutes earlier and was sitting in the \n",
            "same place as before, on the sofa. Raskolnikov was sitting in \n",
            "the oppo\n",
            "\n",
            "Chapter 6 beginning snippet in Part II:\n",
            "At that moment the door was softly opened, and a young \n",
            "girl walked into the room, looking timidly about her. \n",
            "Everyone turned towards her with surprise and curiosity. \n",
            "At first sight, Raskolnikov did\n",
            "\n",
            "Chapter 7 beginning snippet in Part II:\n",
            "It was nearly eight o’clock. The two young men hurried to \n",
            "Bakaleyev’s, to arrive before Luzhin.\n",
            "‘Why, who was that?’ asked Razumihin, as soon as they \n",
            "were in the street.\n",
            "‘It was Svidrigaïlov, that l\n",
            "\n",
            "Chapter 8 beginning snippet in Part II:\n",
            "The fact was that up to the last moment he had never ex -\n",
            "pected such an ending; he had been overbearing to the \n",
            "last degree, never dreaming that two destitute and defence -\n",
            "less women could escape fr\n",
            "\n",
            "Chapter 9 beginning snippet in Part II:\n",
            "Raskolnikov went straight to the house on the canal bank \n",
            "where Sonia lived. It was an old green house of three \n",
            "storeys. He found the porter and obtained from him vague \n",
            "directions as to the whereabo\n",
            "\n",
            "Chapter 10 beginning snippet in Part II:\n",
            "The morning that followed the fateful interview with \n",
            "Dounia and her mother brought sobering influenc -\n",
            "es to bear on Pyotr Petrovitch. Intensely unpleasant as it \n",
            "was, he was forced little by little \n",
            "\n",
            "Chapter 11 beginning snippet in Part II:\n",
            "The same day, about seven o’clock in the evening, Ras -\n",
            "kolnikov was on his way to his mother’s and sister’s \n",
            "lodging—the lodging in Bakaleyev’s house which Razumi -\n",
            "hin had found for them. The stairs\n",
            "\n",
            "Processing Part III\n",
            "Chapter 1 beginning snippet in Part III:\n",
            "Raskolnikov got up, and sat down on the sofa. He waved \n",
            "his hand weakly to Razumihin to cut short the flow of \n",
            "warm and incoherent consolations he was addressing to his \n",
            "mother and sister, took them b\n",
            "\n",
            "Chapter 2 beginning snippet in Part III:\n",
            "‘He is well, quite well!’ Zossimov cried cheerfully as \n",
            "they entered.\n",
            "He had come in ten minutes earlier and was sitting in the \n",
            "same place as before, on the sofa. Raskolnikov was sitting in \n",
            "the oppo\n",
            "\n",
            "Chapter 3 beginning snippet in Part III:\n",
            "At that moment the door was softly opened, and a young \n",
            "girl walked into the room, looking timidly about her. \n",
            "Everyone turned towards her with surprise and curiosity. \n",
            "At first sight, Raskolnikov did\n",
            "\n",
            "Chapter 4 beginning snippet in Part III:\n",
            "It was nearly eight o’clock. The two young men hurried to \n",
            "Bakaleyev’s, to arrive before Luzhin.\n",
            "‘Why, who was that?’ asked Razumihin, as soon as they \n",
            "were in the street.\n",
            "‘It was Svidrigaïlov, that l\n",
            "\n",
            "Chapter 5 beginning snippet in Part III:\n",
            "The fact was that up to the last moment he had never ex -\n",
            "pected such an ending; he had been overbearing to the \n",
            "last degree, never dreaming that two destitute and defence -\n",
            "less women could escape fr\n",
            "\n",
            "Chapter 6 beginning snippet in Part III:\n",
            "Raskolnikov went straight to the house on the canal bank \n",
            "where Sonia lived. It was an old green house of three \n",
            "storeys. He found the porter and obtained from him vague \n",
            "directions as to the whereabo\n",
            "\n",
            "Chapter 7 beginning snippet in Part III:\n",
            "The morning that followed the fateful interview with \n",
            "Dounia and her mother brought sobering influenc -\n",
            "es to bear on Pyotr Petrovitch. Intensely unpleasant as it \n",
            "was, he was forced little by little \n",
            "\n",
            "Chapter 8 beginning snippet in Part III:\n",
            "The same day, about seven o’clock in the evening, Ras -\n",
            "kolnikov was on his way to his mother’s and sister’s \n",
            "lodging—the lodging in Bakaleyev’s house which Razumi -\n",
            "hin had found for them. The stairs\n",
            "\n",
            "Processing Part IV\n",
            "Chapter 1 beginning snippet in Part IV:\n",
            "Can this be still a dream?’v Raskolnikov thought once \n",
            "more.\n",
            "He looked carefully and suspiciously at the unexpected \n",
            "visitor.\n",
            "‘Svidrigaïlov! What nonsense! It can’t be!’ he said at last \n",
            "aloud in bewi\n",
            "\n",
            "Chapter 2 beginning snippet in Part IV:\n",
            "It was nearly eight o’clock. The two young men hurried to \n",
            "Bakaleyev’s, to arrive before Luzhin.\n",
            "‘Why, who was that?’ asked Razumihin, as soon as they \n",
            "were in the street.\n",
            "‘It was Svidrigaïlov, that l\n",
            "\n",
            "Chapter 3 beginning snippet in Part IV:\n",
            "The fact was that up to the last moment he had never ex -\n",
            "pected such an ending; he had been overbearing to the \n",
            "last degree, never dreaming that two destitute and defence -\n",
            "less women could escape fr\n",
            "\n",
            "Chapter 4 beginning snippet in Part IV:\n",
            "Raskolnikov went straight to the house on the canal bank \n",
            "where Sonia lived. It was an old green house of three \n",
            "storeys. He found the porter and obtained from him vague \n",
            "directions as to the whereabo\n",
            "\n",
            "Chapter 5 beginning snippet in Part IV:\n",
            "The morning that followed the fateful interview with \n",
            "Dounia and her mother brought sobering influenc -\n",
            "es to bear on Pyotr Petrovitch. Intensely unpleasant as it \n",
            "was, he was forced little by little \n",
            "\n",
            "Chapter 6 beginning snippet in Part IV:\n",
            "The same day, about seven o’clock in the evening, Ras -\n",
            "kolnikov was on his way to his mother’s and sister’s \n",
            "lodging—the lodging in Bakaleyev’s house which Razumi -\n",
            "hin had found for them. The stairs\n",
            "\n",
            "Processing Part V\n",
            "Chapter 1 beginning snippet in Part V:\n",
            "The morning that followed the fateful interview with \n",
            "Dounia and her mother brought sobering influenc -\n",
            "es to bear on Pyotr Petrovitch. Intensely unpleasant as it \n",
            "was, he was forced little by little \n",
            "\n",
            "Chapter 2 beginning snippet in Part V:\n",
            "The same day, about seven o’clock in the evening, Ras -\n",
            "kolnikov was on his way to his mother’s and sister’s \n",
            "lodging—the lodging in Bakaleyev’s house which Razumi -\n",
            "hin had found for them. The stairs\n",
            "\n",
            "Processing Part VI\n",
            "Chapter 1 beginning snippet in Part VI:\n",
            "A strange period began for Raskolnikov: it was as though \n",
            "a fog had fallen upon him and wrapped him in a dreary \n",
            "solitude from which there was no escape. Recalling that pe -\n",
            "riod long after, he believ\n",
            "\n",
            "Chapter 2 beginning snippet in Part VI:\n",
            "The same day, about seven o’clock in the evening, Ras -\n",
            "kolnikov was on his way to his mother’s and sister’s \n",
            "lodging—the lodging in Bakaleyev’s house which Razumi -\n",
            "hin had found for them. The stairs\n",
            "\n"
          ]
        }
      ]
    },
    {
      "cell_type": "markdown",
      "id": "aa97c8a4",
      "metadata": {
        "id": "aa97c8a4"
      },
      "source": [
        "# Formatting and Saving in correct format"
      ]
    },
    {
      "cell_type": "code",
      "source": [
        "def create_markdown_file(parts):\n",
        "    for part_num, (part_heading, part_text) in enumerate(parts):\n",
        "        # Special handling for the Translator’s Preface\n",
        "        if 'Translator’s Preface' in part_heading:\n",
        "            part_filename = f'translator_preface.md'\n",
        "            markdown_heading = f\"# {part_heading}\\n\\n\"\n",
        "        else:\n",
        "            # Extract the part number from the part heading (e.g., \"Part I\" => \"I\")\n",
        "            part_match = re.search(r'Part ([IVXLCDM]+)\\n', part_heading)\n",
        "            part_number = part_match.group(1) if part_match else str(part_num)\n",
        "            part_filename = f'part_{part_number}.md'\n",
        "            markdown_heading = f\"# Part {part_number}\\n\\n\"\n",
        "\n",
        "        # Create a Markdown file for the part\n",
        "        with open(part_filename, 'w', encoding='utf-8') as part_file:\n",
        "            part_file.write(markdown_heading)\n",
        "\n",
        "            # Detect chapter boundaries within the part\n",
        "            chapters = detect_chapter_boundaries(part_text)\n",
        "\n",
        "            for i, chapter_text in enumerate(chapters, start=1):\n",
        "                # Create a Markdown heading for each chapter within the part\n",
        "                chapter_heading = f\"## Chapter {i}\\n\\n\"\n",
        "                part_file.write(chapter_heading)\n",
        "                part_file.write(chapter_text)\n",
        "                part_file.write('\\n\\n')  # Add an extra newline for separation between chapters\n",
        "\n",
        "# Example usage\n",
        "create_markdown_file(parts)\n"
      ],
      "metadata": {
        "id": "pgJ_wvObSF7l"
      },
      "id": "pgJ_wvObSF7l",
      "execution_count": 21,
      "outputs": []
    },
    {
      "cell_type": "markdown",
      "id": "e982ddf8",
      "metadata": {
        "id": "e982ddf8"
      },
      "source": [
        "# Splitting"
      ]
    },
    {
      "cell_type": "code",
      "execution_count": 22,
      "id": "dd6b97a8",
      "metadata": {
        "id": "dd6b97a8",
        "colab": {
          "base_uri": "https://localhost:8080/"
        },
        "outputId": "73a9619c-2051-418a-a9cb-09986f8104c7"
      },
      "outputs": [
        {
          "output_type": "stream",
          "name": "stdout",
          "text": [
            "/content/part 2\n",
            "/content/translator preface\n",
            "/content/part 4\n",
            "/content/part 3\n",
            "/content/part 1\n",
            "/content/part 5\n",
            "/content/part 6\n"
          ]
        }
      ],
      "source": [
        "markdown_directory = os.getcwd()\n",
        "\n",
        "headers_to_split_on = [\n",
        "    (\"#\", \"Header 1\"),\n",
        "    (\"##\", \"Header 2\"),\n",
        "]\n",
        "markdown_splitter = MarkdownHeaderTextSplitter(headers_to_split_on=headers_to_split_on)\n",
        "\n",
        "\n",
        "splits = []\n",
        "\n",
        "for markdown_file in glob.glob(os.path.join(markdown_directory, \"*.md\")):\n",
        "    # Read the Markdown file\n",
        "    print(markdown_file.split('\\\\')[-1].split('.')[0].replace(\"_\", ' '))\n",
        "    with open(markdown_file, 'r', encoding='utf-8') as file:\n",
        "        markdown_text = file.read()\n",
        "    md_header_splits = markdown_splitter.split_text(markdown_text)\n",
        "\n",
        "    for split in md_header_splits:\n",
        "        splits.append(split)"
      ]
    },
    {
      "cell_type": "code",
      "execution_count": 23,
      "id": "32c4dfa8",
      "metadata": {
        "colab": {
          "base_uri": "https://localhost:8080/"
        },
        "id": "32c4dfa8",
        "outputId": "977c7388-2d57-4034-ad52-e9b2d9d1a873"
      },
      "outputs": [
        {
          "output_type": "stream",
          "name": "stdout",
          "text": [
            "Total Documents: 57\n"
          ]
        }
      ],
      "source": [
        "print(\"Total Documents: {}\".format(len(splits)))"
      ]
    },
    {
      "cell_type": "code",
      "execution_count": null,
      "id": "43644237",
      "metadata": {
        "colab": {
          "base_uri": "https://localhost:8080/"
        },
        "id": "43644237",
        "outputId": "a88449eb-351c-4c2f-860b-162693cba90d"
      },
      "outputs": [
        {
          "output_type": "execute_result",
          "data": {
            "text/plain": [
              "Document(page_content='‘I don’t believe it, I can’t believe it!’ repeated Razumihin,\\ntrying in perplexity to refute Raskolnikov’s arguments.\\nThey were by now approaching Bakaleyev’s lodgings,\\nwhere Pulcheria Alexandrovna and Dounia had been ex -\\npecting them a long while. Razumihin kept stopping on the\\nway in the heat of discussion, confused and excited by the\\nvery fact that they were for the first time speaking openly\\nabout it.\\n‘Don’t believe it, then!’ answered Raskolnikov, with a\\ncold, careless smile. ‘You were noticing nothing as usual,\\nbut I was weighing every word.’\\n‘You are suspicious. That is why you weighed their words\\n… h’m … certainly, I agree, Porfiry’s tone was rather strange,\\nand still more that wretch Zametov! … You are right, there\\nwas something about him—but why? Why?’\\n‘He has changed his mind since last night.’\\n‘Quite the contrary! If they had that brainless idea, they\\nwould do their utmost to hide it, and conceal their cards, so\\nas to catch you afterwards…. But it was all impudent and\\ncareless.’\\n‘If they had had facts—I mean, real facts—or at least\\ngrounds for suspicion, then they would certainly have tried\\nto hide their game, in the hope of getting more (they would\\nhave made a search long ago besides). But they have no facts, Free eBooks at Planet eBook.comnot one. It is all mirage—all ambiguous. Simply a floating\\nidea. So they try to throw me out by impudence. And per -\\nhaps, he was irritated at having no facts, and blurted it out\\nin his vexation—or perhaps he has some plan … he seems\\nan intelligent man. Perhaps he wanted to frighten me by\\npretending to know. They have a psychology of their own,\\nbrother. But it is loathsome explaining it all. Stop!’\\n‘And it’s insulting, insulting! I understand you. But …\\nsince we have spoken openly now (and it is an excellent\\nthing that we have at last—I am glad) I will own now frank -\\nly that I noticed it in them long ago, this idea. Of course\\nthe merest hint only—an insinuation—but why an insinu -\\nation even? How dare they? What foundation have they? If\\nonly you knew how furious I have been. Think only! Simply\\nbecause a poor student, unhinged by poverty and hypo -\\nchondria, on the eve of a severe delirious illness (note that),\\nsuspicious, vain, proud, who has not seen a soul to speak to\\nfor six months, in rags and in boots without soles, has to\\nface some wretched policemen and put up with their inso -\\nlence; and the unexpected debt thrust under his nose, the\\nI.O.U. presented by Tchebarov, the new paint, thirty de -\\ngrees Reaumur and a stifling atmosphere, a crowd of people,\\nthe talk about the murder of a person where he had been\\njust before, and all that on an empty stomach—he might\\nwell have a fainting fit! And that, that is what they found it\\nall on! Damn them! I understand how annoying it is, but in\\nyour place, Rodya, I would laugh at them, or better still, spit\\nin their ugly faces, and spit a dozen times in all directions.\\nI’d hit out in all directions, neatly too, and so I’d put an end\\nCrime and Punishment \\x18\\x18\\x18to it. Damn them! Don’t be downhearted. It’s a shame!’\\n‘He really has put it well, though,’ Raskolnikov thought.\\n‘Damn them? But the cross-examination again, to-mor -\\nrow?’ he said with bitterness. ‘Must I really enter into\\nexplanations with them? I feel vexed as it is, that I conde -\\nscended to speak to Zametov yesterday in the restaurant….’\\n‘Damn it! I will go myself to Porfiry. I will squeeze it out\\nof him, as one of the family: he must let me know the ins\\nand outs of it all! And as for Zametov …’\\n‘At last he sees through him!’ thought Raskolnikov.\\n‘Stay!’ cried Razumihin, seizing him by the shoulder\\nagain. ‘Stay! you were wrong. I have thought it out. You\\nare wrong! How was that a trap? You say that the question\\nabout the workmen was a trap. But if you had done that\\ncould you have said you had seen them painting the flat …\\nand the workmen? On the contrary, you would have seen\\nnothing, even if you had seen it. Who would own it against\\nhimself?’\\n‘If I had done that thing  I should certainly have said that I\\nhad seen the workmen and the flat,’ Raskolnikov answered,\\nwith reluctance and obvious disgust.\\n‘But why speak against yourself?’\\n‘Because only peasants, or the most inexperienced novic -\\nes deny everything flatly at examinations. If a man is ever so\\nlittle developed and experienced, he will certainly try to ad -\\nmit all the external facts that can’t be avoided, but will seek\\nother explanations of them, will introduce some special,\\nunexpected turn, that will give them another significance\\nand put them in another light. Porfiry might well reckon Free eBooks at Planet eBook.comthat I should be sure to answer so, and say I had seen them\\nto give an air of truth, and then make some explanation.’\\n‘But he would have told you at once that the workmen\\ncould not have been there two days before, and that there -\\nfore you must have been there on the day of the murder at\\neight o’clock. And so he would have caught you over a de -\\ntail.’\\n‘Yes, that is what he was reckoning on, that I should not\\nhave time to reflect, and should be in a hurry to make the\\nmost likely answer, and so would forget that the workmen\\ncould not have been there two days before.’\\n‘But how could you forget it?’\\n‘Nothing easier. It is in just such stupid things clever peo -\\nple are most easily caught. The more cunning a man is, the\\nless he suspects that he will be caught in a simple thing. The\\nmore cunning a man is, the simpler the trap he must be\\ncaught in. Porfiry is not such a fool as you think….’\\n‘He is a knave then, if that is so!’\\nRaskolnikov could not help laughing. But at the very mo -\\nment, he was struck by the strangeness of his own frankness,\\nand the eagerness with which he had made this explanation,\\nthough he had kept up all the preceding conversation with\\ngloomy repulsion, obviously with a motive, from necessity.\\n‘I am getting a relish for certain aspects!’ he thought to\\nhimself. But almost at the same instant he became suddenly\\nuneasy, as though an unexpected and alarming idea had oc -\\ncurred to him. His uneasiness kept on increasing. They had\\njust reached the entrance to Bakaleyev’s.\\n‘Go in alone!’ said Raskolnikov suddenly. ‘I will be back\\nCrime and Punishment \\x18\\x18\\x18directly.’\\n‘Where are you going? Why, we are just here.’\\n‘I can’t help it…. I will come in half an hour. Tell them.’\\n‘Say what you like, I will come with you.’\\n‘You, too, want to torture me!’ he screamed, with such\\nbitter irritation, such despair in his eyes that Razumi -\\nhin’s hands dropped. He stood for some time on the steps,\\nlooking gloomily at Raskolnikov striding rapidly away in\\nthe direction of his lodging. At last, gritting his teeth and\\nclenching his fist, he swore he would squeeze Porfiry like\\na lemon that very day, and went up the stairs to reassure\\nPulcheria Alexandrovna, who was by now alarmed at their\\nlong absence.\\nWhen Raskolnikov got home, his hair was soaked with\\nsweat and he was breathing heavily. He went rapidly up the\\nstairs, walked into his unlocked room and at once fastened\\nthe latch. Then in senseless terror he rushed to the corner,\\nto that hole under the paper where he had put the things;\\nput his hand in, and for some minutes felt carefully in the\\nhole, in every crack and fold of the paper. Finding nothing,\\nhe got up and drew a deep breath. As he was reaching the\\nsteps of Bakaleyev’s, he suddenly fancied that something, a\\nchain, a stud or even a bit of paper in which they had been\\nwrapped with the old woman’s handwriting on it, might\\nsomehow have slipped out and been lost in some crack, and\\nthen might suddenly turn up as unexpected, conclusive evi -\\ndence against him.\\nHe stood as though lost in thought, and a strange, hu -\\nmiliated, half senseless smile strayed on his lips. He took his Free eBooks at Planet eBook.comcap at last and went quietly out of the room. His ideas were\\nall tangled. He went dreamily through the gateway.\\n‘Here he is himself,’ shouted a loud voice.\\nHe raised his head.\\nThe porter was standing at the door of his little room\\nand was pointing him out to a short man who looked like\\nan artisan, wearing a long coat and a waistcoat, and look -\\ning at a distance remarkably like a woman. He stooped, and\\nhis head in a greasy cap hung forward. From his wrinkled\\nflabby face he looked over fifty; his little eyes were lost in fat\\nand they looked out grimly, sternly and discontentedly.\\n‘What is it?’ Raskolnikov asked, going up to the porter.\\nThe man stole a look at him from under his brows and\\nhe looked at him attentively, deliberately; then he turned\\nslowly and went out of the gate into the street without say -\\ning a word.\\n‘What is it?’ cried Raskolnikov.\\n‘Why, he there was asking whether a student lived here,\\nmentioned your name and whom you lodged with. I saw\\nyou coming and pointed you out and he went away. It’s fun -\\nny.’\\nThe porter too seemed rather puzzled, but not much so,\\nand after wondering for a moment he turned and went back\\nto his room.\\nRaskolnikov ran after the stranger, and at once caught\\nsight of him walking along the other side of the street with\\nthe same even, deliberate step with his eyes fixed on the\\nground, as though in meditation. He soon overtook him,\\nbut for some time walked behind him. At last, moving on\\nCrime and Punishment \\x18\\x18\\x18to a level with him, he looked at his face. The man noticed\\nhim at once, looked at him quickly, but dropped his eyes\\nagain; and so they walked for a minute side by side without\\nuttering a word.\\n‘You were inquiring for me … of the porter?’ Raskolnikov\\nsaid at last, but in a curiously quiet voice.\\nThe man made no answer; he didn’t even look at him.\\nAgain they were both silent.\\n‘Why do you … come and ask for me … and say noth -\\ning…. What’s the meaning of it?’\\nRaskolnikov’s voice broke and he seemed unable to ar -\\nticulate the words clearly.\\nThe man raised his eyes this time and turned a gloomy\\nsinister look at Raskolnikov.\\n‘Murderer!’ he said suddenly in a quiet but clear and dis -\\ntinct voice.\\nRaskolnikov went on walking beside him. His legs felt\\nsuddenly weak, a cold shiver ran down his spine, and his\\nheart seemed to stand still for a moment, then suddenly be -\\ngan throbbing as though it were set free. So they walked for\\nabout a hundred paces, side by side in silence.\\nThe man did not look at him.\\n‘What do you mean … what is…. Who is a murderer?’\\nmuttered Raskolnikov hardly audibly.\\n‘You are a murderer,’ the man answered still more articu -\\nlately and emphatically, with a smile of triumphant hatred,\\nand again he looked straight into Raskolnikov’s pale face\\nand stricken eyes.\\nThey had just reached the cross-roads. The man turned Free eBooks at Planet eBook.comto the left without looking behind him. Raskolnikov re -\\nmained standing, gazing after him. He saw him turn round\\nfifty paces away and look back at him still standing there.\\nRaskolnikov could not see clearly, but he fancied that he\\nwas again smiling the same smile of cold hatred and tri -\\numph.\\nWith slow faltering steps, with shaking knees, Raskol -\\nnikov made his way back to his little garret, feeling chilled\\nall over. He took off his cap and put it on the table, and\\nfor ten minutes he stood without moving. Then he sank\\nexhausted on the sofa and with a weak moan of pain he\\nstretched himself on it. So he lay for half an hour.\\nHe thought of nothing. Some thoughts or fragments of\\nthoughts, some images without order or coherence floated\\nbefore his mind—faces of people he had seen in his child -\\nhood or met somewhere once, whom he would never have\\nrecalled, the belfry of the church at V., the billiard table in\\na restaurant and some officers playing billiards, the smell of\\ncigars in some underground tobacco shop, a tavern room,\\na back staircase quite dark, all sloppy with dirty water and\\nstrewn with egg-shells, and the Sunday bells floating in from\\nsomewhere…. The images followed one another, whirling\\nlike a hurricane. Some of them he liked and tried to clutch\\nat, but they faded and all the while there was an oppression\\nwithin him, but it was not overwhelming, sometimes it was\\neven pleasant…. The slight shivering still persisted, but that\\ntoo was an almost pleasant sensation.\\nHe heard the hurried footsteps of Razumihin; he closed\\nhis eyes and pretended to be asleep. Razumihin opened the\\nCrime and Punishment \\x18\\x18\\x18door and stood for some time in the doorway as though\\nhesitating, then he stepped softly into the room and went\\ncautiously to the sofa. Raskolnikov heard Nastasya’s whis -\\nper:\\n‘Don’t disturb him! Let him sleep. He can have his din -\\nner later.’\\n‘Quite so,’ answered Razumihin. Both withdrew carefully\\nand closed the door. Another half-hour passed. Raskol -\\nnikov opened his eyes, turned on his back again, clasping\\nhis hands behind his head.\\n‘Who is he? Who is that man who sprang out of the earth?\\nWhere was he, what did he see? He has seen it all, that’s clear.\\nWhere was he then? And from where did he see? Why has\\nhe only now sprung out of the earth? And how could he see?\\nIs it possible? Hm …’ continued Raskolnikov, turning cold\\nand shivering, ‘and the jewel case Nikolay found behind the\\ndoor—was that possible? A clue? You miss an infinitesimal\\nline and you can build it into a pyramid of evidence! A fly\\nflew by and saw it! Is it possible?’ He felt with sudden loath -\\ning how weak, how physically weak he had become. ‘I ought\\nto have known it,’ he thought with a bitter smile. ‘And how\\ndared I, knowing myself, knowing how I should be, take\\nup an axe and shed blood! I ought to have known before -\\nhand…. Ah, but I did know!’ he whispered in despair. At\\ntimes he came to a standstill at some thought.\\n‘No, those men are not made so. The real Master  to whom\\nall is permitted storms Toulon, makes a massacre in Paris,\\nforgets  an army in Egypt, wastes  half a million men in the\\nMoscow expedition and gets off with a jest at Vilna. And al - Free eBooks at Planet eBook.comtars are set up to him after his death, and so all is permitted.\\nNo, such people, it seems, are not of flesh but of bronze!’\\nOne sudden irrelevant idea almost made him laugh. Na -\\npoleon, the pyramids, Waterloo, and a wretched skinny old\\nwoman, a pawnbroker with a red trunk under her bed—it’s\\na nice hash for Porfiry Petrovitch to digest! How can they\\ndigest it! It’s too inartistic. ‘A Napoleon creep under an old\\nwoman’s bed! Ugh, how loathsome!’\\nAt moments he felt he was raving. He sank into a state of\\nfeverish excitement. ‘The old woman is of no consequence,’\\nhe thought, hotly and incoherently. ‘The old woman was a\\nmistake perhaps, but she is not what matters! The old wom -\\nan was only an illness…. I was in a hurry to overstep…. I\\ndidn’t kill a human being, but a principle! I killed the prin -\\nciple, but I didn’t overstep, I stopped on this side…. I was\\nonly capable of killing. And it seems I wasn’t even capable\\nof that … Principle? Why was that fool Razumihin abus -\\ning the socialists? They are industrious, commercial people;\\n‘the happiness of all’ is their case. No, life is only given to\\nme once and I shall never have it again; I don’t want to wait\\nfor ‘the happiness of all.’ I want to live myself, or else better\\nnot live at all. I simply couldn’t pass by my mother starving,\\nkeeping my rouble in my pocket while I waited for the ‘hap -\\npiness of all.’ I am putting my little brick into the happiness\\nof all and so my heart is at peace. Ha-ha! Why have you let\\nme slip? I only live once, I too want…. Ech, I am an æsthetic\\nlouse and nothing more,’ he added suddenly, laughing like a\\nmadman. ‘Yes, I am certainly a louse,’ he went on, clutching\\nat the idea, gloating over it and playing with it with vindic -\\nCrime and Punishment \\x18\\x180tive pleasure. ‘In the first place, because I can reason that I\\nam one, and secondly, because for a month past I have been\\ntroubling benevolent Providence, calling it to witness that\\nnot for my own fleshly lusts did I undertake it, but with a\\ngrand and noble object— ha-ha! Thirdly, because I aimed\\nat carrying it out as justly as possible, weighing, measuring\\nand calculating. Of all the lice I picked out the most useless\\none and proposed to take from her only as much as I needed\\nfor the first step, no more nor less (so the rest would have\\ngone to a monastery, according to her will, ha-ha!). And\\nwhat shows that I am utterly a louse,’ he added, grinding his\\nteeth, ‘is that I am perhaps viler and more loathsome than\\nthe louse I killed, and I felt beforehand  that I should tell my -\\nself so after  killing her. Can anything be compared with the\\nhorror of that? The vulgarity! The abjectness! I understand\\nthe ‘prophet’ with his sabre, on his steed: Allah commands\\nand ‘trembling’ creation must obey! The ‘prophet’ is right,\\nhe is right when he sets a battery across the street and blows\\nup the innocent and the guilty without deigning to explain!\\nIt’s for you to obey, trembling creation, and not to have de -\\nsires  for that’s not for you! … I shall never, never forgive the\\nold woman!’\\nHis hair was soaked with sweat, his quivering lips were\\nparched, his eyes were fixed on the ceiling.\\n‘Mother, sister—how I loved them! Why do I hate them\\nnow? Yes, I hate them, I feel a physical hatred for them, I\\ncan’t bear them near me…. I went up to my mother and\\nkissed her, I remember…. To embrace her and think if she\\nonly knew … shall I tell her then? That’s just what I might Free eBooks at Planet eBook.comdo…. She must be the same as I am,’ he added, straining\\nhimself to think, as it were struggling with delirium. ‘Ah,\\nhow I hate the old woman now! I feel I should kill her again\\nif she came to life! Poor Lizaveta! Why did she come in?\\n… It’s strange though, why is it I scarcely ever think of her,\\nas though I hadn’t killed her? Lizaveta! Sonia! Poor gentle\\nthings, with gentle eyes…. Dear women! Why don’t they\\nweep? Why don’t they moan? They give up everything …\\ntheir eyes are soft and gentle…. Sonia, Sonia! Gentle So -\\nnia!’\\nHe lost consciousness; it seemed strange to him that\\nhe didn’t remember how he got into the street. It was late\\nevening. The twilight had fallen and the full moon was\\nshining more and more brightly; but there was a peculiar\\nbreathlessness in the air. There were crowds of people in\\nthe street; workmen and business people were making their\\nway home; other people had come out for a walk; there was\\na smell of mortar, dust and stagnant water. Raskolnikov\\nwalked along, mournful and anxious; he was distinctly\\naware of having come out with a purpose, of having to do\\nsomething in a hurry, but what it was he had forgotten. Sud -\\ndenly he stood still and saw a man standing on the other\\nside of the street, beckoning to him. He crossed over to him,\\nbut at once the man turned and walked away with his head\\nhanging, as though he had made no sign to him. ‘Stay, did\\nhe really beckon?’ Raskolnikov wondered, but he tried to\\novertake him. When he was within ten paces he recognised\\nhim and was frightened; it was the same man with stooping\\nshoulders in the long coat. Raskolnikov followed him at a\\nCrime and Punishment \\x18\\x18\\x18distance; his heart was beating; they went down a turning;\\nthe man still did not look round. ‘Does he know I am fol -\\nlowing him?’ thought Raskolnikov. The man went into the\\ngateway of a big house. Raskolnikov hastened to the gate\\nand looked in to see whether he would look round and sign\\nto him. In the court-yard the man did turn round and again\\nseemed to beckon him. Raskolnikov at once followed him\\ninto the yard, but the man was gone. He must have gone\\nup the first staircase. Raskolnikov rushed after him. He\\nheard slow measured steps two flights above. The staircase\\nseemed strangely familiar. He reached the window on the\\nfirst floor; the moon shone through the panes with a melan -\\ncholy and mysterious light; then he reached the second floor.\\nBah! this is the flat where the painters were at work … but\\nhow was it he did not recognise it at once? The steps of the\\nman above had died away. ‘So he must have stopped or hid -\\nden somewhere.’ He reached the third storey, should he go\\non? There was a stillness that was dreadful…. But he went\\non. The sound of his own footsteps scared and frightened\\nhim. How dark it was! The man must be hiding in some cor -\\nner here. Ah! the flat was standing wide open, he hesitated\\nand went in. It was very dark and empty in the passage, as\\nthough everything had been removed; he crept on tiptoe\\ninto the parlour which was flooded with moonlight. Every -\\nthing there was as before, the chairs, the looking-glass, the\\nyellow sofa and the pictures in the frames. A huge, round,\\ncopper-red moon looked in at the windows. ‘It’s the moon\\nthat makes it so still, weaving some mystery,’ thought Ras -\\nkolnikov. He stood and waited, waited a long while, and the Free eBooks at Planet eBook.commore silent the moonlight, the more violently his heart beat,\\ntill it was painful. And still the same hush. Suddenly he\\nheard a momentary sharp crack like the snapping of a splin -\\nter and all was still again. A fly flew up suddenly and struck\\nthe window pane with a plaintive buzz. At that moment he\\nnoticed in the corner between the window and the little\\ncupboard something like a cloak hanging on the wall. ‘Why\\nis that cloak here?’ he thought, ‘it wasn’t there before….’ He\\nwent up to it quietly and felt that there was someone hiding\\nbehind it. He cautiously moved the cloak and saw, sitting on\\na chair in the corner, the old woman bent double so that he\\ncouldn’t see her face; but it was she. He stood over her. ‘She\\nis afraid,’ he thought. He stealthily took the axe from the\\nnoose and struck her one blow, then another on the skull.\\nBut strange to say she did not stir, as though she were made\\nof wood. He was frightened, bent down nearer and tried to\\nlook at her; but she, too, bent her head lower. He bent right\\ndown to the ground and peeped up into her face from be -\\nlow, he peeped and turned cold with horror: the old woman\\nwas sitting and laughing, shaking with noiseless laughter,\\ndoing her utmost that he should not hear it. Suddenly he\\nfancied that the door from the bedroom was opened a little\\nand that there was laughter and whispering within. He was\\novercome with frenzy and he began hitting the old woman\\non the head with all his force, but at every blow of the axe\\nthe laughter and whispering from the bedroom grew louder\\nand the old woman was simply shaking with mirth. He was\\nrushing away, but the passage was full of people, the doors\\nof the flats stood open and on the landing, on the stairs\\nCrime and Punishment \\x18\\x18\\x18and everywhere below there were people, rows of heads,\\nall looking, but huddled together in silence and expecta -\\ntion. Something gripped his heart, his legs were rooted to\\nthe spot, they would not move…. He tried to scream and\\nwoke up.\\nHe drew a deep breath—but his dream seemed strangely\\nto persist: his door was flung open and a man whom he had\\nnever seen stood in the doorway watching him intently.\\nRaskolnikov had hardly opened his eyes and he instantly\\nclosed them again. He lay on his back without stirring.\\n‘Is it still a dream?’ he wondered and again raised his\\neyelids hardly perceptibly; the stranger was standing in the\\nsame place, still watching him.\\nHe stepped cautiously into the room, carefully closing\\nthe door after him, went up to the table, paused a moment,\\nstill keeping his eyes on Raskolnikov, and noiselessly seated\\nhimself on the chair by the sofa; he put his hat on the floor\\nbeside him and leaned his hands on his cane and his chin\\non his hands. It was evident that he was prepared to wait\\nindefinitely. As far as Raskolnikov could make out from his\\nstolen glances, he was a man no longer young, stout, with a\\nfull, fair, almost whitish beard.\\nTen minutes passed. It was still light, but beginning to\\nget dusk. There was complete stillness in the room. Not a\\nsound came from the stairs. Only a big fly buzzed and flut -\\ntered against the window pane. It was unbearable at last.\\nRaskolnikov suddenly got up and sat on the sofa.\\n‘Come, tell me what you want.’\\n‘I knew you were not asleep, but only pretending,’ the Free eBooks at Planet eBook.comstranger answered oddly, laughing calmly. ‘Arkady Ivano -\\nvitch Svidrigaïlov, allow me to introduce myself….’\\nCrime and Punishment \\x18\\x18\\x18Part IV Free eBooks at Planet eBook.com', metadata={'Header 1': 'Part 2', 'Header 2': 'Chapter 6'})"
            ]
          },
          "metadata": {},
          "execution_count": 22
        }
      ],
      "source": [
        "splits[5]"
      ]
    },
    {
      "cell_type": "code",
      "execution_count": 24,
      "id": "21f9d67d",
      "metadata": {
        "id": "21f9d67d",
        "outputId": "53f3627c-166e-414f-beb6-aff8b546402c",
        "colab": {
          "base_uri": "https://localhost:8080/"
        }
      },
      "outputs": [
        {
          "output_type": "execute_result",
          "data": {
            "text/plain": [
              "75929"
            ]
          },
          "metadata": {},
          "execution_count": 24
        }
      ],
      "source": [
        "len(splits[1].dict()[\"page_content\"])"
      ]
    },
    {
      "cell_type": "code",
      "execution_count": 25,
      "id": "7a6ac2ef",
      "metadata": {
        "id": "7a6ac2ef",
        "outputId": "a52699e1-a8a1-43a2-8eaf-ef7670b47944",
        "colab": {
          "base_uri": "https://localhost:8080/"
        }
      },
      "outputs": [
        {
          "output_type": "execute_result",
          "data": {
            "text/plain": [
              "{'Header 1': 'Part 2', 'Header 2': 'Chapter 1'}"
            ]
          },
          "metadata": {},
          "execution_count": 25
        }
      ],
      "source": [
        "splits[0].dict()[\"metadata\"]"
      ]
    },
    {
      "cell_type": "markdown",
      "id": "8ddc885d",
      "metadata": {
        "id": "8ddc885d"
      },
      "source": [
        "# Prompt, LLM, Chain, Callback"
      ]
    },
    {
      "cell_type": "code",
      "execution_count": 33,
      "id": "21734c1c",
      "metadata": {
        "id": "21734c1c"
      },
      "outputs": [],
      "source": [
        "\n",
        "# Define prompt\n",
        "prompt_template = \"\"\"Write a concise summary of the following:\n",
        "\"{text}\"\n",
        "CONCISE SUMMARY:\"\"\"\n",
        "prompt = PromptTemplate.from_template(prompt_template)\n",
        "\n",
        "# Define LLM chain\n",
        "llm = ChatOpenAI(temperature=0, model_name=\"gpt-3.5-turbo-16k\")\n",
        "llm_chain = LLMChain(llm=llm, prompt=prompt)\n",
        "\n",
        "# Define StuffDocumentsChain\n",
        "stuff_chain = StuffDocumentsChain(\n",
        "    llm_chain=llm_chain, document_variable_name=\"text\"\n",
        ")"
      ]
    },
    {
      "cell_type": "code",
      "execution_count": 40,
      "id": "a214b01d",
      "metadata": {
        "id": "a214b01d"
      },
      "outputs": [],
      "source": []
    },
    {
      "cell_type": "code",
      "source": [
        "import time"
      ],
      "metadata": {
        "id": "yIbk-ssFTZAn"
      },
      "id": "yIbk-ssFTZAn",
      "execution_count": 37,
      "outputs": []
    },
    {
      "cell_type": "code",
      "execution_count": 41,
      "id": "92466f29",
      "metadata": {
        "id": "92466f29"
      },
      "outputs": [],
      "source": [
        "summarize_document = {}\n",
        "\n",
        "def insert_summary(part_no, chapter_no, summary):\n",
        "    if part_no not in summarize_document:\n",
        "        summarize_document[part_no] = {}\n",
        "    summarize_document[part_no][chapter_no] = summary\n",
        "\n",
        "count = 1\n",
        "cost = 0\n",
        "\n",
        "for split_doc in splits:\n",
        "    with get_openai_callback() as cb:\n",
        "        print(count)\n",
        "        print(split_doc.dict()[\"metadata\"]['Header 1'])\n",
        "        print(split_doc.dict()[\"metadata\"]['Header 2'])\n",
        "        partNo = split_doc.dict()[\"metadata\"]['Header 1']\n",
        "        chapterNo = split_doc.dict()[\"metadata\"]['Header 2']\n",
        "        summary = stuff_chain.run([split_doc])\n",
        "        time.sleep(10)\n",
        "        print(cb)\n",
        "        cost += cb.total_cost\n",
        "\n",
        "        insert_summary(partNo, chapterNo, summary)\n",
        "\n",
        "    count += 1\n"
      ]
    },
    {
      "cell_type": "code",
      "execution_count": null,
      "id": "3eabeb26",
      "metadata": {
        "id": "3eabeb26",
        "outputId": "1d6964d1-13d0-478e-fafd-893e32a62624",
        "colab": {
          "base_uri": "https://localhost:8080/"
        }
      },
      "outputs": [
        {
          "output_type": "stream",
          "name": "stdout",
          "text": [
            "Part 5\n",
            "Tokens Used: 14550\n",
            "\tPrompt Tokens: 14402\n",
            "\tCompletion Tokens: 148\n",
            "Successful Requests: 1\n",
            "Total Cost (USD): $0.043798000000000004\n"
          ]
        }
      ],
      "source": [
        "with get_openai_callback() as cb:\n",
        "        print(splits[-1].dict()[\"metadata\"]['Header 1'])\n",
        "        partNo = splits[-1].dict()[\"metadata\"]['Header 1']\n",
        "        summary = stuff_chain.run([splits[-1]])\n",
        "        print(cb)\n",
        "        cost += cb.total_cost\n",
        "\n",
        "        insert_summary(partNo, \" \", summary)"
      ]
    },
    {
      "cell_type": "code",
      "execution_count": null,
      "id": "de732ba8",
      "metadata": {
        "id": "de732ba8",
        "outputId": "02406245-ac1a-4949-eac8-5d34d0bf8c90",
        "colab": {
          "base_uri": "https://localhost:8080/"
        }
      },
      "outputs": [
        {
          "output_type": "stream",
          "name": "stdout",
          "text": [
            "Total Cost (USD): $0.9695350000000001\n"
          ]
        }
      ],
      "source": [
        "print(f\"Total Cost (USD): ${cost}\")"
      ]
    },
    {
      "cell_type": "markdown",
      "id": "eb248785",
      "metadata": {
        "id": "eb248785"
      },
      "source": [
        "# Summarized Document (Dictionary)"
      ]
    },
    {
      "cell_type": "code",
      "execution_count": null,
      "id": "62d4f306",
      "metadata": {
        "id": "62d4f306",
        "outputId": "514fb7e7-63f2-42da-9e74-03ed5206fd6f"
      },
      "outputs": [
        {
          "data": {
            "text/plain": [
              "{'Part I': {'Chapter 1': 'On a hot evening in July, a young man leaves his garret and walks towards a bridge, avoiding his landlady. He is in debt to her and afraid of meeting her. The young man is in an irritable and isolated state, and fears interacting with anyone. He is absorbed in himself and has given up on practical matters. He is going to attempt something, but is unsure and frightened. The heat and unpleasant surroundings exacerbate his already strained nerves. He enters a tavern and drinks beer, feeling a temporary relief from his worries. However, he senses that his newfound cheerfulness is not normal. The tavern is mostly empty, with a few drunk men and a suspicious-looking man.',\n",
              "  'Chapter 2': \"Raskolnikov, who usually avoids crowds, suddenly feels a desire to be around people. He goes to a tavern and notices a retired clerk who seems interested in talking to him. The clerk, Marmeladov, tells Raskolnikov about his struggles with poverty and his wife's mistreatment. Marmeladov reveals that he recently stole money from his wife and spent it on alcohol. Raskolnikov leaves the tavern and goes to Marmeladov's home, where he witnesses the chaotic and impoverished living conditions. He leaves some money for Marmeladov's family and reflects on the nature of humanity.\",\n",
              "  'Chapter 3': 'The protagonist wakes up feeling sick and irritable in his small, run-down room. He is avoiding contact with others and neglecting his basic needs. His landlady is upset with him for not paying rent and threatens to involve the police. He receives a letter from his mother, informing him that his sister is engaged to a wealthy man and they are planning to move to Petersburg. The protagonist becomes angry and bitter, and goes for a walk, muttering to himself.',\n",
              "  'Chapter 4': \"The protagonist, Raskolnikov, receives a letter from his mother informing him of his sister's engagement to a man named Mr. Luzhin. Raskolnikov is angered by the news and believes that his sister is sacrificing herself for the sake of their family. He encounters a drunk girl on the street and tries to help her, but is interrupted by a man who seems interested in her. Raskolnikov eventually decides to go visit his friend Razumihin, whom he hasn't seen in months.\",\n",
              "  'Chapter 5': \"Raskolnikov contemplates going to Razumihin for help, but questions the usefulness of it. He has a strange thought about going to Razumihin's the next day after something happens. He then has a vivid dream about witnessing the brutal beating of a horse. He wakes up feeling relieved and free from a burden. He crosses the Hay Market and overhears a conversation about an opportunity to carry out his plan to kill an old woman. He realizes that this is the perfect opportunity and feels that his fate is sealed.\",\n",
              "  'Chapter 6': \"Raskolnikov discovers that Lizaveta was invited to the huckster's house because they were looking for a dealer to buy their household goods. Raskolnikov becomes superstitious and believes that there are strange coincidences surrounding his encounters with the huckster and Lizaveta. He overhears a conversation about the pawnbroker Alyona Ivanovna and learns more about her and Lizaveta. Raskolnikov becomes fixated on the idea of committing a crime and justifying it by using the stolen money for the benefit of others. He plans to steal an axe from the kitchen and carry out his plan. However, when he arrives at the house, he realizes that Nastasya, the landlady, is in the kitchen and he cannot access the axe. He becomes frustrated but then notices a wagon of hay that blocks him from view as he enters the gate. He successfully enters the building and begins ascending the stairs to the old woman's apartment. He rings the bell but there is no answer. He hears someone inside and realizes that the old woman is suspicious and listening at the door. He rings the bell again and waits patiently.\",\n",
              "  'Chapter 7': 'In this passage, Raskolnikov enters the apartment of the old woman he plans to rob and murder. He tries to convince her to let him in, but she is suspicious. Eventually, he forces his way in and kills her with an axe. He then searches for valuables and finds a purse. As he is leaving, he hears someone approaching and hides in an empty flat. He narrowly avoids being caught by the person who enters the apartment. Raskolnikov then makes his way home, feeling exhausted and disoriented. He manages to return the axe to its hiding place and collapses on his sofa.'},\n",
              " 'Part II': {'Chapter 1': \"The protagonist, Raskolnikov, wakes up after a long period of unconsciousness and realizes that it is already late into the night. He hears fearful cries from the street and realizes that it is past two o'clock. He suddenly remembers everything that happened the previous night and becomes filled with fear and despair. He notices some drops of blood on his trousers and tries to hide them. He also remembers that he still has the stolen items in his pockets and quickly hides them as well. He is then summoned to the police office and goes there, feeling a mix of fear and relief. At the police office, he witnesses a scandal involving a woman and an officer. He then has a sudden realization that he can no longer appeal to anyone for help and feels a deep sense of loneliness. He signs a declaration stating that he cannot pay his debts and leaves the office. He faints and when he regains consciousness, he is questioned by the police officers. He is then allowed to leave and realizes that a search will be conducted at his home. He rushes home, feeling terrified.\",\n",
              "  'Chapter 2': 'In this passage, Raskolnikov is in a state of panic and paranoia after committing a crime. He searches his room for any evidence that may have been left behind and finds several items, which he hides in his pockets. He then goes out to dispose of the evidence, but struggles to find a suitable place. Eventually, he throws the items into a hidden hollow under a stone. He returns home and falls into a deep sleep, only to be woken up by the sound of his landlady being beaten. However, it is revealed that this was all in his imagination and he is suffering from hallucinations.',\n",
              "  'Chapter 3': \"The protagonist is recovering from an illness and experiencing delirium. He remembers people coming and going from his room, threatening and mocking him. He is confused about the passage of time and struggles to remember certain things. Eventually, he regains consciousness and is visited by a friend who brings him new clothes. The friend also mentions that the protagonist's mother sent him money. The chapter ends with the entrance of a tall, stout man.\",\n",
              "  'Chapter 4': \"Zossimov is described as a tall, fat man with a clean-shaven face and fashionable attire. He is slow and nonchalant in manner, but his self-importance is apparent. He is considered clever at his work, but his acquaintances find him tedious. Razumihin informs Zossimov that Raskolnikov has come to himself and Zossimov examines him. Raskolnikov is still depressed and has a headache. Zossimov advises against giving him certain foods and medicine. Razumihin plans to take Raskolnikov for a walk the next day. They discuss a house-painter who is accused of murder and the discovery of earrings in his possession. Zossimov questions the evidence and Razumihin defends the painter's innocence. They debate the details of the case and Zossimov questions the validity of the evidence. Raskolnikov suddenly becomes agitated and asks about the earrings being found behind the door. The conversation continues, with Razumihin defending the painter's innocence and Zossimov questioning the evidence. The chapter ends with the entrance of a stranger.\",\n",
              "  'Chapter 5': \"A gentleman arrives at Raskolnikov's apartment and is surprised by the poor conditions. He introduces himself as Pyotr Petrovitch Luzhin and mentions that he is engaged to Raskolnikov's sister. Raskolnikov shows little interest and insults Luzhin. Luzhin leaves in anger. Raskolnikov becomes agitated and asks to be left alone.\",\n",
              "  'Chapter 6': \"After leaving his apartment, the protagonist, Raskolnikov, becomes calm and focused. He dresses in new clothes, takes money from his table, and leaves his building. He encounters a street musician and gives money to a young girl. He then walks to a crowded area and contemplates his plan to end everything. He goes to a restaurant, reads the newspaper, and runs into an acquaintance, Zametov. They have a strange conversation about crimes and Raskolnikov's mental state. Raskolnikov continues walking and witnesses a woman attempting to drown herself. She is saved, and Raskolnikov continues on his way. He encounters his friend Razumihin, who invites him to a party, but Raskolnikov declines. He walks to his former apartment building and enters the empty flat. He then goes to the police station, but is thrown out by the porter. Raskolnikov contemplates his next move and sees a crowd gathered in the distance. He walks towards it, ready to face whatever comes next.\",\n",
              "  'Chapter 7': \"In this passage, an accident occurs where a man is run over by a carriage. Raskolnikov, the protagonist, pushes through the crowd to see what happened and realizes that the injured man is Marmeladov, a government clerk. Raskolnikov offers to pay for a doctor and insists that Marmeladov be taken to his lodging. The police agree and Raskolnikov slips them some money. They take Marmeladov to his home, where his wife and children are waiting. Katerina Ivanovna, Marmeladov's wife, is distraught and worried about how they will afford to bury him. Raskolnikov gives her money and promises to come back the next day. He then goes to see his friend Razumihin, who is hosting a gathering. Raskolnikov tells Razumihin that he won their bet and that he is feeling better. However, he suddenly feels weak and sad and rushes home. When he arrives, he is surprised to find his mother and sister waiting for him. Overwhelmed, he faints and Razumihin helps him onto the sofa. The family is grateful to Razumihin for his help.\"},\n",
              " 'Part III': {'Chapter 1': \"Raskolnikov's mother and sister visit him in his apartment, where he is in a state of emotional distress. Raskolnikov asks his mother and sister to leave and stay with his friend Razumihin. He also tells them to refuse a marriage proposal from a man named Luzhin. Raskolnikov's mother and sister are concerned for his well-being and leave with Razumihin. Later, Zossimov, a doctor, visits Raskolnikov's apartment and reassures his family that he is recovering. Razumihin and Zossimov have a conversation outside, where Razumihin reveals his infatuation with Avdotya Romanovna, Raskolnikov's sister. He asks Zossimov to spend time with her and keep her company. Zossimov is amused by Razumihin's behavior and agrees to help.\",\n",
              "  'Chapter 2': \"Razumihin wakes up troubled and serious, realizing that he had a novel experience the previous day. He feels ashamed of his drunken behavior and criticizes himself for his jealousy towards Avdotya Romanovna's fiancé. He is concerned about Raskolnikov's mental state and the upcoming meeting with Pyotr Petrovitch. Pulcheria Alexandrovna shares a letter from Pyotr Petrovitch, expressing her worries about Raskolnikov's reaction. They decide to go to Raskolnikov's and seek Razumihin's advice on how to handle the situation.\",\n",
              "  'Chapter 3': \"Raskolnikov is visited by Zossimov and his family, who are relieved to see that he is feeling better. However, Raskolnikov still appears pale and somber, and there is a sense of tension in the room. Zossimov advises Raskolnikov to avoid certain triggers that may worsen his condition, and Raskolnikov agrees to return to the university. The conversation then turns to Raskolnikov's sister, Dounia, who is planning to marry a man named Luzhin. Raskolnikov expresses his disapproval and warns Dounia that he will no longer consider her his sister if she goes through with the marriage. Dounia defends her decision, and Raskolnikov reluctantly accepts it. The family then discusses a letter from Luzhin, which Raskolnikov criticizes for its uneducated style. He also points out a slanderous remark about him in the letter. Despite this, Raskolnikov agrees to attend a meeting with Luzhin later that evening.\",\n",
              "  'Chapter 4': \"In this passage, Raskolnikov is surprised when a young girl named Sofya Semyonovna Marmeladov enters the room. He had seen her the day before in different circumstances and did not recognize her at first. She is timid and dressed modestly. Raskolnikov feels sorry for her and invites her to sit down. Razumihin, Raskolnikov's friend, gives up his seat for her. Sofya Semyonovna explains that she has come on behalf of Katerina Ivanovna to invite Raskolnikov to a service and funeral lunch. Raskolnikov agrees to attend. After Sofya Semyonovna leaves, Raskolnikov and Razumihin discuss going to see Porfiry Petrovitch, a detective involved in a murder case. Raskolnikov is worried that Porfiry knows he was at the old woman's flat and asked about the blood. They enter Porfiry's flat laughing, but Razumihin warns Raskolnikov to be careful.\",\n",
              "  'Chapter 5': 'Raskolnikov enters a room with Razumihin and encounters Porfiry Petrovitch. Raskolnikov tries to control his laughter while Razumihin appears embarrassed and angry. Porfiry questions Raskolnikov about a recent article he wrote, discussing the idea that extraordinary people have the right to commit crimes. Raskolnikov defends his argument and asserts that great men often suffer for their actions. Porfiry asks Raskolnikov about a specific incident on the day of the murder, but Raskolnikov denies seeing anything. They leave the room, feeling gloomy and tense.',\n",
              "  'Chapter 6': \"Razumihin and Raskolnikov are discussing the recent events and suspicions surrounding Raskolnikov. Razumihin is perplexed by Raskolnikov's arguments and is in disbelief. Raskolnikov believes that the police have no real evidence against him and are trying to intimidate him. He also reflects on his actions and feelings of guilt. Later, Raskolnikov has a disturbing dream and is then confronted by a stranger named Svidrigaïlov.\"},\n",
              " 'Part IV': {'Chapter 1': \"Raskolnikov is visited by Svidrigaïlov, who claims to want to make his acquaintance and seek his assistance in winning over Raskolnikov's sister, Avdotya Romanovna. Raskolnikov is suspicious of Svidrigaïlov's intentions and refuses to help him. Svidrigaïlov talks about his past actions and his belief in ghosts. He also offers Raskolnikov money and reveals that Avdotya Romanovna is set to receive an inheritance. Raskolnikov is angered by Svidrigaïlov's audacity and refuses his offer. Svidrigaïlov leaves, but hints at a possible future encounter.\",\n",
              "  'Chapter 2': \"Two young men hurry to Bakaleyev's to arrive before Luzhin. They discuss Svidrigaïlov, a landowner who had insulted the sister of one of the men. Svidrigaïlov recently came to town and they fear he may harm the sister. They also mention Marfa Petrovna, Svidrigaïlov's wife, who recently died. The men then meet Luzhin, who had insulted the brother earlier. They argue and Luzhin eventually leaves.\",\n",
              "  'Chapter 3': 'In this passage, it is revealed that Pyotr Petrovitch, who had been overbearing and controlling towards Dounia and her mother, did not expect them to escape his control. He had a high opinion of himself and his intelligence, and saw his decision to marry Dounia as heroic. However, he is now feeling undeservedly injured and unrecognised. Dounia and her mother are relieved to be free from him, and Razumihin proposes a business venture to support them. Raskolnikov, however, is distant and decides to separate himself from his family. Razumihin tries to convince him to stay, but something passes between them that causes Razumihin to pale and Raskolnikov to leave abruptly.',\n",
              "  'Chapter 4': \"Raskolnikov goes to Sonia's house and they have a conversation about her difficult situation. Raskolnikov suggests that they go together and abandon their families. Sonia reads a passage from the Bible about the resurrection of Lazarus. Raskolnikov reveals that he knows who killed Lizaveta and promises to tell Sonia tomorrow. After he leaves, Sonia is left feeling feverish and delirious. Meanwhile, Svidrigaïlov listens to their conversation from the empty room next door.\",\n",
              "  'Chapter 5': 'Raskolnikov goes to the department of the investigation of criminal causes to meet with Porfiry Petrovitch. He is surprised at being kept waiting and begins to doubt whether Porfiry knows anything about his crime. When he finally meets with Porfiry, they engage in a tense conversation where Raskolnikov accuses Porfiry of lying and trying to manipulate him. The conversation ends abruptly when they hear a noise outside the door.',\n",
              "  'Chapter 6': \"In this passage, Raskolnikov is visited by a man who confesses to having wronged him and reveals that he was present during Raskolnikov's conversation with Porfiry. The man explains that he informed Porfiry about Raskolnikov's visit to the police station and witnessed Porfiry's reaction. Raskolnikov realizes that Porfiry has no concrete evidence against him and feels more confident. He leaves with a malicious smile, ready to fight for his innocence.\"},\n",
              " 'Part V': {'Chapter 1': 'Pyotr Petrovitch is forced to accept the reality of his failed relationship with Dounia and her mother. He is angry and frustrated, and his day is filled with unpleasantness, including issues with his legal case and the redecoration of his flat. He contemplates his mistakes and regrets not giving money to Dounia and her mother. He also considers the possibility of starting a new relationship and tries to convince himself that he can find someone better. Pyotr Petrovitch is irritated by his friend Andrey Semyonovitch Lebeziatnikov and suspects that he is being deceived. He also plans to attend a funeral dinner and is interested in meeting Raskolnikov, who will be there. Lebeziatnikov, who is interested in progressive ideas, discusses his beliefs with Pyotr Petrovitch, who finds them foolish. Pyotr Petrovitch then has a conversation with Sonia, offering her money and suggesting that a subscription be raised for her family. He warns her not to give the money to Katerina Ivanovna, as she will spend it on unnecessary things. Lebeziatnikov praises Pyotr Petrovitch for his actions, but Pyotr Petrovitch is preoccupied and not fully engaged in the conversation.',\n",
              "  'Chapter 2': \"Katerina Ivanovna hosts a dinner party to honor her deceased husband, but it is chaotic and filled with tension. She spends a large portion of the money given for her husband's funeral on the dinner, possibly to prove her superiority to the other lodgers. Katerina Ivanovna is proud and determined, but also mentally unstable. The guests include a mix of people, some of whom are disrespectful and disruptive. Katerina Ivanovna tries to maintain her dignity and impress her guests, but the dinner quickly spirals out of control.\",\n",
              "  'Chapter 3': \"In this passage, Katerina Ivanovna accuses Pyotr Petrovitch of mistreating her and demands protection. Pyotr Petrovitch denies the accusations and instead focuses on his own affairs. He then accuses Sonia of stealing money from him, but she denies it. Lebeziatnikov supports Sonia's innocence and accuses Pyotr Petrovitch of planting the money on her. Raskolnikov steps forward and explains that Pyotr Petrovitch had a motive to frame Sonia in order to separate him from his family. The crowd turns against Pyotr Petrovitch, who eventually leaves. Katerina Ivanovna is thrown out of her lodging and runs into the street in search of justice. Raskolnikov decides to go to Sonia's lodgings.\",\n",
              "  'Chapter 4': 'Raskolnikov, burdened by guilt and anguish, finds relief in defending Sonia against Luzhin. However, as he prepares to tell Sonia about killing Lizaveta, he becomes overwhelmed with fear and impotence. He hesitates at her door, questioning whether he should confess. When he finally enters, Sonia expresses her gratitude for his support. Raskolnikov confesses his crime to her, but she struggles to understand his motives. He contemplates his actions and realizes that he wanted to prove his superiority and gain power. Sonia urges him to confess and repent, but he resists, believing he can escape punishment. He informs Sonia that the police are after him and assures her that he will find a way to protect his family. They sit together, both feeling the weight of their love for each other. Raskolnikov tells Sonia not to visit him in prison, and she gives him a cross to wear. Just as they are about to discuss further, Lebeziatnikov knocks on the door.',\n",
              "  'Chapter 5': \"Lebeziatnikov informs Raskolnikov that Katerina Ivanovna has gone mad and is mistreating her children. Sonia rushes out to help, followed by Raskolnikov and Lebeziatnikov. They find Katerina Ivanovna in the street, singing and dancing with the children. She is eventually taken back to Sonia's room, where she dies. Svidrigaïlov offers to take care of the children and provide for them financially. He reveals that he has been living next door and has been observing Raskolnikov. Raskolnikov is shocked and disturbed by this revelation.\"},\n",
              " 'Part VI': {'Chapter 1': 'Raskolnikov is experiencing a strange period of fog and solitude, during which he believes his mind is clouded and he has made mistakes. He is plagued by uneasiness and panic, but also moments of apathy. He is particularly worried about Svidrigaïlov and feels the need to come to an understanding with him. Raskolnikov learns from Razumihin that his mother is ill and that Dounia received a disturbing letter. Razumihin also informs him that the murderer of the old woman has been found. Raskolnikov realizes that Porfiry suspects him and decides to confront him.',\n",
              "  'Chapter 2': 'Porfiry Petrovitch, a police investigator, visits Raskolnikov and tries to convince him to confess to the murders he committed. Porfiry believes that Raskolnikov is the murderer and offers him a chance to lessen his sentence by confessing. Raskolnikov initially refuses, but eventually considers the possibility. Porfiry warns Raskolnikov not to try to escape or harm himself, and asks him to leave a note if he decides to do so. After Porfiry leaves, Raskolnikov contemplates his options.',\n",
              "  'Chapter 3': \"The protagonist, Raskolnikov, hurries to meet Svidrigaïlov, a man who has some hidden power over him. Raskolnikov is unsure of what he hopes to gain from Svidrigaïlov, but feels compelled to see him. On his way, he wonders if Svidrigaïlov has been to see Porfiry, a police investigator. Raskolnikov is unsure, but believes that Svidrigaïlov has not been to see Porfiry yet. He contemplates whether it is worth it to try to prevent Svidrigaïlov from going to see Porfiry and whether it is worth investigating him further. Raskolnikov is tired and anxious about his immediate future, but is more concerned about the possibility of Svidrigaïlov using his secret against his sister, Dounia. Raskolnikov arrives at a tavern and finds Svidrigaïlov there. They engage in conversation, with Svidrigaïlov revealing that he is a gambler and has a passion for women. Raskolnikov confronts Svidrigaïlov about his intentions towards Dounia and warns him that he will kill him if he tries to harm her. Svidrigaïlov admits that he is afraid of death and dislikes talking about it. They discuss their different perspectives on vice and aesthetics. Raskolnikov becomes uncomfortable and wants to leave, but Svidrigaïlov asks him to stay and tells him a story about a woman who tried to save him, revealing that the woman is Raskolnikov's sister, Avdotya Romanovna.\",\n",
              "  'Chapter 4': \"In this passage, Svidrigaïlov reveals to Raskolnikov the details of his marriage to Marfa Petrovna, including their agreement to allow him to have affairs with other women. He also confesses his attraction to Raskolnikov's sister, Avdotya Romanovna, and his plans to marry another young girl. Raskolnikov becomes suspicious of Svidrigaïlov's intentions and decides to follow him.\",\n",
              "  'Chapter 5': \"In this passage, Raskolnikov confronts Svidrigaïlov about his intentions towards his sister and accuses him of pursuing her. Raskolnikov threatens to call the police, but Svidrigaïlov dismisses his concerns and tries to befriend him. Raskolnikov remains suspicious and decides to follow Svidrigaïlov to his lodgings. Meanwhile, Dounia, Raskolnikov's sister, meets with Svidrigaïlov and he confesses to her that Raskolnikov is a murderer. Dounia is in disbelief and pulls out a revolver, threatening to shoot Svidrigaïlov. However, she ultimately decides not to and flees from the room. Svidrigaïlov is left in despair and contemplates his actions before leaving the room.\",\n",
              "  'Chapter 6': 'Svidrigaïlov spends the evening going to various low places and treating people to drinks. He ends up in a pleasure garden where a fight breaks out among some clerks. He leaves and walks home in the rain. He then goes to see Sonia, giving her money and making arrangements for her and her family. Later, he has a disturbing dream and wakes up feeling unsettled. He leaves his hotel and encounters a man named Achilles. Svidrigaïlov tells Achilles he is going to America and then shoots himself in the head.',\n",
              "  'Chapter 7': 'Raskolnikov, in a state of exhaustion and distress, visits his mother and confesses his love for her. He then meets with his sister, Dounia, who is horrified to learn that he has committed a crime. Raskolnikov defends his actions, believing that he has done a service to society. He decides to turn himself in and contemplates the consequences of his actions. Despite his inner turmoil, he pushes away Dounia and walks away, feeling a mix of anger and self-hatred.',\n",
              "  'Chapter 8': \"In this passage, Raskolnikov confesses to the murder of the pawnbroker and her sister and is sentenced to eight years of penal servitude. He reflects on his crime and his feelings of shame and isolation in prison. Meanwhile, Sonia, who has been visiting him, falls ill but assures him she is getting better. Raskolnikov dreams of a plague that destroys humanity except for a chosen few. He is released from prison and reunites with Sonia, and they both feel a sense of renewal and hope for the future. The passage ends by hinting at the possibility of a new story, one that explores Raskolnikov's transformation and redemption.\"},\n",
              " 'Translator’s Preface': {' ': 'Fyodor Dostoevsky was a Russian author known for his novel \"Crime and Punishment.\" He had a difficult upbringing and was arrested in 1849 for his involvement in conversations against censorship. His death sentence was commuted to hard labor, and he spent several years in Siberia. Dostoevsky suffered from epilepsy and experienced intense suffering during his imprisonment, which influenced his writing. He faced financial struggles throughout his life but was beloved by readers in Russia. He died in 1880 and was mourned by many. Dostoevsky\\'s insight and wisdom in his writing resonated with readers and made him a highly regarded author.'}}"
            ]
          },
          "execution_count": 50,
          "metadata": {},
          "output_type": "execute_result"
        }
      ],
      "source": [
        "summarize_document"
      ]
    },
    {
      "cell_type": "code",
      "execution_count": null,
      "id": "5751bd69",
      "metadata": {
        "id": "5751bd69",
        "outputId": "665c7ec0-f64b-49b7-8feb-265297246a4b",
        "colab": {
          "base_uri": "https://localhost:8080/"
        }
      },
      "outputs": [
        {
          "output_type": "stream",
          "name": "stdout",
          "text": [
            "JSON data saved to summarize_document.json\n"
          ]
        }
      ],
      "source": [
        "import json\n",
        "# Specify the file path where you want to save the JSON data\n",
        "json_file_path = \"summarize_document.json\"\n",
        "\n",
        "# Convert the dictionary to JSON and save it to the file\n",
        "with open(json_file_path, \"w\", encoding=\"utf-8\") as json_file:\n",
        "    json.dump(summarize_document, json_file, ensure_ascii=False, indent=4)\n",
        "\n",
        "# Print a message indicating that the data has been saved\n",
        "print(f\"JSON data saved to {json_file_path}\")"
      ]
    },
    {
      "cell_type": "code",
      "execution_count": null,
      "id": "6bbd8a15",
      "metadata": {
        "id": "6bbd8a15"
      },
      "outputs": [],
      "source": [
        "# Reorder the dictionary by moving \"Translator’s Preface\" to the beginning\n",
        "reordered_data = {\n",
        "    \"Translator’s Preface\": summarize_document[\"Translator’s Preface\"],\n",
        "    **{key: summarize_document[key] for key in summarize_document if key != \"Translator’s Preface\"}\n",
        "}"
      ]
    },
    {
      "cell_type": "code",
      "execution_count": null,
      "id": "df2e9ede",
      "metadata": {
        "id": "df2e9ede",
        "outputId": "feb60147-5ab1-4f20-d8be-bdad1c82a3d2",
        "colab": {
          "base_uri": "https://localhost:8080/"
        }
      },
      "outputs": [
        {
          "output_type": "execute_result",
          "data": {
            "text/plain": [
              "{'Translator’s Preface': {'Chapter 1': \"The Translator's Preface provides a brief overview of Fyodor Dostoevsky's life and experiences. It mentions his upbringing in a poor but religious family, his early success as a writer, his arrest and near-execution, his time in prison and exile, his struggles with epilepsy, his financial difficulties, and his eventual recognition as a beloved and influential writer in Russia. The summary highlights Dostoevsky's ability to deeply understand and convey the human experience through his writing.\"},\n",
              " 'Part 2': {'Chapter 1': 'Part II of the document discusses the availability of free eBooks on Planet eBook.com.',\n",
              "  'Chapter 2': 'The protagonist, Raskolnikov, wakes up after a long period of unconsciousness and realizes that it is already morning. He is startled by the sound of drunken men outside and suddenly remembers everything that happened the previous night. He frantically searches his clothes for any evidence of his crime, but finds nothing except for a few drops of blood on his trousers. He hides the stolen items in a hole in the wall and contemplates what to do with them. He is interrupted by a knock on the door and is given a summons to the police office. Raskolnikov goes to the office and tries to explain his situation, but is met with indifference. He begins to feel a sense of isolation and detachment from others. After signing a declaration, he leaves the office and realizes that a search will likely be conducted at his home. He becomes terrified and rushes home.',\n",
              "  'Chapter 3': 'The protagonist, Raskolnikov, is in a state of panic and paranoia after committing a crime. He searches his room for any evidence that may have been left behind and finds several items, which he hides in his pockets. He decides to dispose of the evidence in a canal but realizes it would be too risky. He then considers going to the Neva River but ultimately decides to hide the items in a courtyard. Raskolnikov encounters his friend Razumihin, who offers him a job translating a book. Raskolnikov initially refuses but later accepts. He returns home to find his landlady being beaten by someone, but Nastasya, his servant, denies that it happened. Raskolnikov falls into a state of delirium and is cared for by Nastasya.',\n",
              "  'Chapter 4': 'The protagonist is in a feverish state, sometimes delirious and sometimes half conscious. He remembers people around him, threatening and mocking him. He struggles to remember something important and feels a sense of terror. Eventually, he wakes up and is visited by Razumihin, who brings him clothes and money. Raskolnikov is suspicious and confused, but eventually remembers that his mother sent the money.',\n",
              "  'Chapter 5': \"Zossimov is described as a tall, fat man with a puffy, colorless face and straight flaxen hair. He is slow and nonchalant in manner, but his self-importance is apparent. He is considered tedious by his acquaintances, but is said to be clever at his work. Razumihin informs Zossimov that Raskolnikov has come to himself and Zossimov asks how he is feeling. Raskolnikov declares that he is well, but then sinks back onto the pillow. Zossimov examines him and determines that he is still depressed. They discuss what Raskolnikov can eat and Zossimov suggests soup, tea, and mushrooms and cucumbers should be avoided. Razumihin mentions that he is having a house-warming party that night and invites Zossimov to come. They discuss the guests that will be there, including a government clerk, a musician, and an officer. Razumihin mentions that his old uncle, who is a district postmaster, will also be there. Zossimov asks if the uncle is a relation of Razumihin's and Razumihin says he is a very distant one. They continue to discuss the party and the guests. Nastasya interrupts to mention that Lizaveta, the woman who used to come to the house and mend shirts, was also murdered. Raskolnikov murmurs Lizaveta's name and turns to the wall. They continue to discuss the murder case and the evidence against Nikolay. Razumihin argues that Nikolay is innocent and presents his theory that the real murderer dropped the earrings in Nikolay's hands. Zossimov finds Razumihin's theory too melodramatic. The chapter ends with the entrance of a stranger.\",\n",
              "  'Chapter 6': \"In this passage, a gentleman named Pyotr Petrovitch Luzhin enters Raskolnikov's room and is immediately taken aback by the poor conditions. He questions Raskolnikov's identity and is met with suspicion and hostility. The conversation turns to a recent murder of a pawnbroker, and Luzhin expresses his thoughts on the increase of crime in society. Raskolnikov becomes enraged and insults Luzhin, causing him to leave. Raskolnikov is left alone, feeling agitated and wanting to be left alone.\",\n",
              "  'Chapter 7': \"After leaving his apartment, the protagonist, Raskolnikov, becomes calm and focused. He dresses in new clothes, takes money from his table, and leaves his building. He encounters a young girl singing on the street and gives her some money. He then walks to the Hay Market and observes the crowd. He engages in a strange conversation with a middle-aged man before continuing on his way. He eventually reaches a bridge and witnesses a woman attempting to drown herself. She is rescued, and Raskolnikov continues to a police office. He briefly considers going to a friend's house but ultimately decides against it. He arrives at the police office and encounters confusion from the workers there. He is eventually thrown out and walks away. He sees a crowd gathered in the distance and approaches to see what is happening.\",\n",
              "  'Chapter 8': \"Raskolnikov witnesses a man being run over by a carriage and tries to help. He recognizes the injured man as Marmeladov, a government clerk. Raskolnikov offers to pay for a doctor and insists that Marmeladov be taken to his lodging. Meanwhile, Katerina Ivanovna, Marmeladov's wife, is at home with her children, including Polenka and Lida. Katerina is consumed with worry and despair over their poverty and her husband's drinking. Raskolnikov arrives at Razumihin's place, where there is a gathering of people. Razumihin is drunk and tells Raskolnikov that Zossimov thinks he is mad. Raskolnikov leaves and encounters Polenka, who tells him that her mother sent her to find him. Polenka loves her sister Sonia and promises to pray for Raskolnikov. Raskolnikov gives Polenka money and promises to visit her the next day. Raskolnikov then goes to his room and finds his mother and sister waiting for him. Overwhelmed with emotion, he faints. Razumihin assures his family that Raskolnikov is fine and helps him recover.\"},\n",
              " 'Part 4': {'Chapter 1': 'Part V of the text discusses crime and punishment.',\n",
              "  'Chapter 2': 'Pyotr Petrovitch is forced to accept the reality of his failed relationship with Dounia and her mother. He is angry and disappointed, but also hopeful that he can find another bride. He is frustrated by various obstacles in his life, including a legal case and difficulties with his apartment. He contemplates his mistakes and regrets not giving money to Dounia and her mother. He also plans to attend a funeral dinner and asks Lebeziatnikov to stay with him during a meeting with Sonia. Pyotr Petrovitch offers financial assistance to Sonia, but she is overwhelmed and leaves. Lebeziatnikov praises Pyotr Petrovitch for his actions, but Pyotr Petrovitch is preoccupied with something else.',\n",
              "  'Chapter 3': \"Katerina Ivanovna hosts a dinner party to honor her deceased husband, but it quickly turns into chaos. She spends a large portion of the money given for her husband's funeral on the dinner, possibly to prove that she is not inferior to the other lodgers. Katerina Ivanovna's pride and desire to show off her upbringing and social status contribute to her extravagant spending. The dinner guests include a mix of people, some of whom are disrespectful and disruptive. Katerina Ivanovna's interactions with the guests and her arguments with Amalia Ivanovna escalate tensions. The dinner ends with a heated confrontation between Katerina Ivanovna and Amalia Ivanovna, which is interrupted by the arrival of Pyotr Petrovitch Luzhin.\",\n",
              "  'Chapter 4': \"In this passage from Crime and Punishment, Katerina Ivanovna accuses Pyotr Petrovitch of mistreating her and her family. Pyotr Petrovitch denies the accusations and accuses Sonia of stealing money from him. Raskolnikov steps in and explains that Pyotr Petrovitch is trying to ruin his relationship with his family. The commotion escalates, and Pyotr Petrovitch eventually leaves. Katerina Ivanovna is thrown out of her lodgings, and Raskolnikov decides to go to Sonia's lodgings.\",\n",
              "  'Chapter 5': 'Raskolnikov, burdened by guilt and anguish, finds relief in defending Sonia against Luzhin. However, as he prepares to tell Sonia about the murder of Lizaveta, he becomes overwhelmed with fear and impotence. He hesitates at her door, questioning whether he should reveal the truth. When he finally enters, Sonia expresses her gratitude for his support and asks him not to talk about the murder. Raskolnikov then confesses that he killed Lizaveta accidentally and struggles with his own justification for the murder. Sonia pleads with him to turn himself in, but he refuses, believing that he can avoid conviction. They discuss their future and exchange crosses as a symbol of their shared suffering. Just as they are about to continue their conversation, Mr. Lebeziatnikov knocks on the door.',\n",
              "  'Chapter 6': \"Lebeziatnikov informs Raskolnikov that Katerina Ivanovna has gone mad and is mistreating her children. Sonia becomes distraught and runs out of the room. Lebeziatnikov follows her, leaving Raskolnikov alone. Raskolnikov contemplates his actions and feels guilty for making Sonia miserable. He decides to remain alone and not let her visit him in prison. However, he later has a change of heart and tells Dounia that he will come to see their mother. Katerina Ivanovna is found in the street, bleeding and delirious. She is taken to Sonia's room, where she dies. Svidrigaïlov offers to take care of the children and provide for them financially. Raskolnikov is shocked to learn that Svidrigaïlov has been living next door and overhearing their conversations. Svidrigaïlov finds Raskolnikov's reactions amusing and assures him that they can be friends.\"},\n",
              " 'Part 3': {'Chapter 1': 'Part III of the text discusses crime and punishment.',\n",
              "  'Chapter 2': \"Raskolnikov's mother and sister visit him in his apartment, where they find him in a distressed and emotional state. Raskolnikov asks his mother and sister to leave and stay with his friend Razumihin. He also tells them to refuse a marriage proposal from a man named Luzhin. Pulcheria Alexandrovna, Raskolnikov's mother, is worried about his mental state and is unsure of what to do. Razumihin, who is drunk, offers to stay with Raskolnikov and take care of him. He also expresses his infatuation with Raskolnikov's sister, Avdotya Romanovna. Zossimov, a doctor, visits the family and assures them that Raskolnikov's condition is improving. Razumihin and Zossimov leave, and Pulcheria Alexandrovna and Avdotya Romanovna are left to worry about Raskolnikov's well-being.\",\n",
              "  'Chapter 3': \"Razumihin wakes up troubled and serious, reflecting on the previous day and feeling ashamed of his drunken behavior. He is also concerned about his friend Raskolnikov's well-being. Pulcheria Alexandrovna and Avdotya Romanovna, Raskolnikov's mother and sister, are worried about a letter they received from Pyotr Petrovitch, who asks that Raskolnikov not be present at their meeting. They decide to go to Raskolnikov's themselves to discuss the situation.\",\n",
              "  'Chapter 4': \"Raskolnikov is visited by his mother, sister, and their friend Zossimov. He appears to be recovering from his illness but still looks pale and somber. Zossimov advises Raskolnikov to avoid certain triggers that may worsen his condition. Raskolnikov apologizes for his behavior the previous day and expresses his desire to return to the university. The conversation turns to Marfa Petrovna's death, and Raskolnikov criticizes Pyotr Petrovitch's uneducated letter. Dounia defends her decision to marry Pyotr Petrovitch, and Raskolnikov agrees to attend a meeting with him later that evening.\",\n",
              "  'Chapter 5': \"Raskolnikov is surprised when a young girl, Sofya Semyonovna Marmeladov, enters the room. He had seen her the day before but in a different context and appearance. She is timid and shy, and Raskolnikov feels sorry for her. They discuss Katerina Ivanovna's request for Raskolnikov to attend a service and funeral lunch. Raskolnikov agrees and asks Sofya Semyonovna to sit down and talk. Meanwhile, Pulcheria Alexandrovna and Dounia leave and Razumihin accompanies Sofya Semyonovna to her home. On the way, they encounter a stranger who seems interested in Sofya Semyonovna. Raskolnikov and Razumihin then go to visit Porfiry Petrovitch. Raskolnikov is anxious to see if Porfiry knows about his visit to the old woman's flat. Razumihin teases Raskolnikov about his behavior and appearance. They enter Porfiry's flat laughing.\",\n",
              "  'Chapter 6': 'Raskolnikov enters a room with Razumihin and encounters Porfiry Petrovitch. Raskolnikov tries to control his laughter but fails, causing Razumihin to become angry and break a table. Porfiry Petrovitch questions Raskolnikov about his article on crime and they discuss the idea of extraordinary people having the right to commit crimes. Porfiry Petrovitch asks Raskolnikov about seeing painters in a flat on the day of the murder, but Raskolnikov denies seeing them. They leave the room feeling tense.',\n",
              "  'Chapter 7': 'In this passage, Razumihin and Raskolnikov are discussing the recent events and suspicions surrounding Raskolnikov. They are on their way to meet Pulcheria Alexandrovna and Dounia when they have a heated discussion about the motives and actions of the police. Raskolnikov becomes increasingly agitated and eventually leaves abruptly. He encounters a strange man who accuses him of being a murderer, which leaves Raskolnikov feeling frightened and confused. He eventually returns home and has a disturbing dream before being interrupted by a stranger named Svidrigaïlov.',\n",
              "  'Chapter 8': \"In this passage from Crime and Punishment, Svidrigaïlov visits Raskolnikov and offers him money to break off his sister's engagement to Mr. Luzhin. Raskolnikov is angered by the offer and refuses. Svidrigaïlov also mentions seeing ghosts and hints at his own questionable motives. He leaves, but not before telling Raskolnikov that his sister is set to receive a large sum of money from Marfa Petrovna's will.\",\n",
              "  'Chapter 9': \"Two young men hurry to Bakaleyev's to arrive before Luzhin. They discuss Svidrigaïlov, a landowner who had insulted the sister of one of the men. Svidrigaïlov recently came to town after his wife's funeral and is determined to do something. They decide to guard the sister from him. They then encounter Luzhin, who had insulted the men's family in a letter. A heated argument ensues, and Luzhin eventually leaves in anger.\",\n",
              "  'Chapter 10': \"In this passage, it is revealed that Pyotr Petrovitch, who had been overbearing and controlling towards two destitute women, did not expect them to escape his control. He had a high opinion of himself and his intelligence, and was motivated by the money he had amassed. He had dreams of marrying a virtuous and grateful woman who would worship him. However, his plans were disrupted when the women rejected him and he was left feeling injured and unrecognized. Meanwhile, the women, Dounia and her mother, are relieved to be free from Pyotr's control and are considering a business venture with Razumihin. Raskolnikov, on the other hand, is distant and indifferent, and decides to leave his family temporarily.\",\n",
              "  'Chapter 11': \"Raskolnikov goes to Sonia's house and they have a tense conversation. Raskolnikov reveals that he has abandoned his family and wants to go with Sonia. He also hints that he knows who killed Lizaveta. Sonia is confused and disturbed by his words. After he leaves, Sonia is feverish and delirious, and Svidrigaïlov, a neighbor, has been eavesdropping on their conversation.\",\n",
              "  'Chapter 12': 'Raskolnikov goes to the department of the investigation of criminal causes to meet with Porfiry Petrovitch. He is surprised at being kept waiting and begins to doubt whether Porfiry knows anything about the murders. When he finally meets with Porfiry, they engage in a tense conversation where Raskolnikov accuses Porfiry of lying and trying to manipulate him. The conversation ends abruptly when they hear a noise outside the door.',\n",
              "  'Chapter 13': \"Raskolnikov remembers a scene where Nikolay confesses to being the murderer of Alyona Ivanovna and her sister. Porfiry Petrovitch is surprised by the confession and questions Nikolay. Raskolnikov leaves and encounters the man from the previous day who confesses to spreading rumors about him. The man reveals that he witnessed Porfiry's reaction to Raskolnikov's visit and that Porfiry did not have any concrete evidence against him. Raskolnikov feels more confident and determined to fight for his innocence.\"},\n",
              " 'Part 1': {'Chapter 1': 'Part I of the website Planet eBook.com offers free eBooks.',\n",
              "  'Chapter 2': \"A young man, who is in debt to his landlady, is afraid of meeting her and avoids her whenever possible. He is in a state of anxiety and isolation, and has become absorbed in himself. On this particular evening, he is acutely aware of his fears and contemplates taking a new step, but is unsure if he is capable of it. He walks through the hot and crowded streets, feeling disgusted by his surroundings. He goes to pawn a watch at an old woman's house, but is disappointed by the amount of money he receives. He then goes to a tavern and drinks beer, feeling momentarily relieved. However, he has a foreboding feeling that this temporary relief is not normal.\",\n",
              "  'Chapter 3': \"Raskolnikov, who usually avoids crowds, suddenly feels a desire to be around people. He goes to a tavern and notices a retired clerk who seems to be staring at him. The clerk eventually approaches Raskolnikov and engages him in conversation. The clerk, Marmeladov, tells Raskolnikov about his difficult life and his wife, Katerina Ivanovna, who is sick and struggling to support their children. Marmeladov reveals that he recently stole money from his wife and spent it on alcohol. Raskolnikov witnesses the chaotic and impoverished state of Marmeladov's home, and feels a mix of pity and disgust. He leaves the tavern and reflects on the nature of humanity.\",\n",
              "  'Chapter 4': 'The protagonist wakes up feeling ill-tempered and unhappy with his living conditions. He is living in a small, run-down room and is struggling financially. His landlady has stopped providing him with meals and he is behind on his rent. He receives a letter from his mother, who informs him that his sister is engaged to be married to a wealthy man. The protagonist is bitter and angry about his own situation and contemplates his next move.',\n",
              "  'Chapter 5': \"The protagonist, Raskolnikov, receives a letter from his mother informing him of his sister's engagement to a man named Mr. Luzhin. Raskolnikov is furious and believes that the marriage is a mistake. He is suspicious of Mr. Luzhin's intentions and believes that his sister is sacrificing herself for the sake of their family. Raskolnikov encounters a drunk girl on the street and tries to help her, but ultimately decides to let her be. He then remembers that he was on his way to see his friend, Razumihin.\",\n",
              "  'Chapter 6': 'Raskolnikov is contemplating going to Razumihin for help and lessons, but questions the usefulness of it. He has a disturbing dream about a horse being beaten to death and wakes up in terror. He then has a moment of clarity and decides to renounce his plan. He crosses the Hay Market and overhears a conversation about an old woman being left alone the next day. This information solidifies his decision to carry out his plan.',\n",
              "  'Chapter 7': \"Raskolnikov discovers that Lizaveta was invited to the huckster and his wife's house because they were selling their household goods and clothes. Lizaveta often undertakes such jobs and is known for being honest and fair. Raskolnikov, who has become superstitious, sees this as a strange coincidence. He remembers a conversation he had with a student about the pawnbroker Alyona Ivanovna, and then overhears the student talking about her with an officer. The student describes Alyona as a terrible person, and the officer suggests that someone should kill her and use her money for good deeds. Raskolnikov is disturbed by this conversation. Later, he falls into a deep sleep and wakes up feeling agitated. He realizes he needs to steal an axe from the kitchen, but when he goes to get it, he sees Nastasya in the kitchen and is unable to take it. However, he spots an axe in the porter's room and takes it instead. He then goes to the old woman's apartment and rings the bell, but there is no answer. He hears someone inside listening at the door, and after a few moments, the latch is unfastened.\",\n",
              "  'Chapter 8': 'In this passage from Crime and Punishment, Raskolnikov enters the apartment of the old woman he plans to rob and murder. He tries to act casual and disarm her suspicions, but he becomes increasingly nervous and loses control. He ends up killing both the old woman and her sister who unexpectedly arrives. After the murders, Raskolnikov hears voices approaching and narrowly escapes being caught by hiding in an empty flat. He eventually makes it back to his own apartment, where he is in a state of shock and unable to think clearly.'},\n",
              " 'Part 5': {'Chapter 1': 'Part VI of the document provides free eBooks that can be accessed at Planet eBook.com.',\n",
              "  'Chapter 2': \"Raskolnikov is experiencing a strange period of foggy thinking and solitude. He believes his mind was clouded during this time and that he made mistakes and mixed up incidents. He is plagued by uneasiness and panic, but also experiences moments of apathy. He is particularly worried about Svidrigaïlov. He meets with Svidrigaïlov a few times, but they do not discuss the important subject. Raskolnikov attends Katerina Ivanovna's funeral and feels a sense of relief that he is not present. Razumihin visits Raskolnikov and expresses concern about his mental state. He reveals that Dounia received a letter that upset her. Raskolnikov is intrigued by the news that the murderer has been found and confesses. He realizes that Porfiry suspects him and decides to confront him. Porfiry visits Raskolnikov and they engage in a tense conversation.\",\n",
              "  'Chapter 3': 'Porfiry Petrovitch, a police officer, visits Raskolnikov and tries to convince him to confess to the murders he committed. Porfiry believes that Raskolnikov is the murderer and offers him a chance to lessen his sentence by confessing. Raskolnikov initially refuses, but eventually considers the possibility. Porfiry warns Raskolnikov not to run away and asks him to leave a note if he plans to harm himself. After Porfiry leaves, Raskolnikov contemplates his options.',\n",
              "  'Chapter 4': \"The protagonist, Raskolnikov, hurries to meet Svidrigaïlov, a man who has some hidden power over him. Raskolnikov is worried that Svidrigaïlov has been to see Porfiry, but he concludes that he hasn't. Raskolnikov is anxious about his immediate future and is tormented by the thought that Svidrigaïlov may use his secret against his sister, Dounia. Raskolnikov decides to see Svidrigaïlov to find out if he has any new information or means of escape. He finds Svidrigaïlov in a tavern and confronts him about his intentions towards Dounia. Svidrigaïlov admits to being interested in women and claims to have spent time with Raskolnikov's sister. He offers to tell Raskolnikov the story, but Raskolnikov is hesitant to listen.\",\n",
              "  'Chapter 5': \"Svidrigaïlov, a man who was once in debtors' prison, tells Raskolnikov about his marriage to Marfa Petrovna. Despite confessing that he couldn't be faithful to her, Marfa Petrovna agreed to a contract where Svidrigaïlov would never leave her and would have freedom with the maids. However, Svidrigaïlov falls in love with Raskolnikov's sister, Avdotya Romanovna, and proposes to her. He also reveals his plans to marry another young girl. Raskolnikov becomes suspicious of Svidrigaïlov and decides to follow him.\",\n",
              "  'Chapter 6': \"In this passage from Crime and Punishment, Raskolnikov confronts Svidrigaïlov about his intentions towards Raskolnikov's sister. Raskolnikov accuses Svidrigaïlov of pursuing his sister and not giving up his designs on her. Svidrigaïlov denies this and tries to convince Raskolnikov that he is only interested in helping him and his family. Raskolnikov is skeptical and threatens to call the police. Svidrigaïlov changes his demeanor and tries to be friendly, but Raskolnikov remains suspicious. They part ways, and Raskolnikov walks away, feeling disgusted by Svidrigaïlov.\",\n",
              "  'Chapter 7': 'Svidrigaïlov spends the evening going to various low places and treating people to drinks. He ends up in a pleasure garden where he witnesses a fight between two clerks. He then goes to visit Sonia, giving her money and making arrangements for her and her family. Later, he has a disturbing dream and wakes up feeling unsettled. He leaves the hotel and encounters a man at the gates who questions his presence. Svidrigaïlov reveals his plan to go to America and then shoots himself in the head.',\n",
              "  'Chapter 8': 'Raskolnikov, in a state of fatigue and inner conflict, visits his mother and confesses his love for her. He then goes to see his sister, Dounia, who is horrified to learn that he has committed a crime. Raskolnikov contemplates the consequences of his actions and questions the purpose of his suffering. Despite his anger and resentment towards others, he ultimately decides to turn himself in.',\n",
              "  'Chapter 9': \"In this passage, Raskolnikov confesses to the murder of the pawnbroker and her sister and is sentenced to eight years of penal servitude. He reflects on his crime and his feelings of shame and isolation in prison. Meanwhile, Sonia, who has been visiting him in prison, falls ill and is unable to see him. Raskolnikov is overcome with emotion when he sees her waiting for him outside the hospital. They share a moment of happiness and resolve to wait for their future together. Raskolnikov also contemplates his newfound belief in God and the possibility of redemption. The passage ends with the suggestion that a new story is beginning, one of Raskolnikov's gradual regeneration and transformation.\",\n",
              "  ' ': \"In this passage, Raskolnikov confesses to the murder of the pawnbroker and her sister and is sentenced to eight years of penal servitude. He reflects on his crime and his feelings of shame and isolation in prison. Meanwhile, Sonia, who has been visiting him in prison, falls ill and is unable to see him. Raskolnikov is overcome with emotion when he sees her waiting for him outside the hospital. They share a moment of happiness and resolve to wait for their future together. Raskolnikov also contemplates his newfound belief in God and the possibility of redemption. The passage ends with the suggestion that a new story is beginning, one of Raskolnikov's gradual regeneration and transformation.\"}}"
            ]
          },
          "metadata": {},
          "execution_count": 68
        }
      ],
      "source": [
        "reordered_data"
      ]
    },
    {
      "cell_type": "markdown",
      "id": "d989ef55",
      "metadata": {
        "id": "d989ef55"
      },
      "source": [
        "# PDF Generation of Summary"
      ]
    },
    {
      "cell_type": "code",
      "execution_count": null,
      "id": "b37651cd",
      "metadata": {
        "id": "b37651cd",
        "outputId": "9f4f95be-4300-4b61-e8eb-d5a76a0f45a4",
        "colab": {
          "base_uri": "https://localhost:8080/"
        }
      },
      "outputs": [
        {
          "output_type": "stream",
          "name": "stdout",
          "text": [
            "PDF created: summarize_document.pdf\n"
          ]
        }
      ],
      "source": [
        "\n",
        "# Create a PDF document\n",
        "pdf_file_path = \"summarize_document.pdf\"\n",
        "doc = SimpleDocTemplate(pdf_file_path, pagesize=letter)\n",
        "\n",
        "story = []\n",
        "\n",
        "# Define padding values\n",
        "padding_left = 50  # Adjust the left padding\n",
        "padding_right = 50  # Adjust the right padding\n",
        "padding_top = 50  # Adjust the top padding\n",
        "padding_bottom = 50  # Adjust the bottom padding\n",
        "\n",
        "# Define a style for the title\n",
        "title_style = getSampleStyleSheet()[\"Title\"]\n",
        "title_style.fontName = \"Helvetica-Bold\"\n",
        "title_style.alignment = 1  # Centered\n",
        "title_style.fontSize = 42  # Increase the font size for the title\n",
        "title_style.leading = 56  # Increase the line spacing (leading) for the title\n",
        "\n",
        "# Define a style for the top-level section titles (Heading1)\n",
        "styles = getSampleStyleSheet()\n",
        "heading1_style = styles[\"Heading1\"]\n",
        "heading1_style.fontSize = 36  # Increase the font size for Heading1\n",
        "heading1_style.leading = 48  # Increase the line spacing (leading) for the title\n",
        "\n",
        "heading2_style = styles[\"Heading2\"]\n",
        "heading2_style.fontSize = 28  # Increase the font size for Heading1\n",
        "heading2_style.leading = 36  # Increase the line spacing (leading) for the title\n",
        "\n",
        "# Define a style for the paragraphs\n",
        "style = styles[\"Normal\"]\n",
        "style.fontSize = 14  # Increase the font size for the paragraphs\n",
        "style.leading = 20  # Increase the line spacing (leading) for the title\n",
        "\n",
        "# Add the title to the PDF\n",
        "title_text = \"Summary: Crime and Punishment\"\n",
        "title = Paragraph(title_text, title_style)\n",
        "story.append(title)\n",
        "\n",
        "# Add spacing above the title\n",
        "story.append(Spacer(1, padding_top))\n",
        "\n",
        "# Iterate through the JSON data and add the \"Translator’s Preface,\" parts, chapters, and summaries to the PDF\n",
        "for section, chapters in reordered_data.items():\n",
        "    # Add the section title to the PDF\n",
        "    section_title = Paragraph(section, heading1_style)  # Use the Heading1 style for top-level titles\n",
        "    story.append(section_title)\n",
        "\n",
        "    for chapter, summary in chapters.items():\n",
        "        # Skip the empty chapter title for the \"Translator’s Preface\"\n",
        "        if chapter:\n",
        "            # Add the chapter title to the PDF\n",
        "            chapter_title = Paragraph(chapter, heading2_style)\n",
        "            story.append(chapter_title)\n",
        "\n",
        "        # Add the chapter summary to the PDF\n",
        "        chapter_summary = Paragraph(summary, style)\n",
        "        story.append(chapter_summary)\n",
        "\n",
        "        # Add space between chapters\n",
        "    story.append(Spacer(1, padding_bottom + 20))  # Add spacing below each chapter\n",
        "\n",
        "# Build the PDF document\n",
        "doc.build(story)\n",
        "\n",
        "print(f\"PDF created: {pdf_file_path}\")\n"
      ]
    },
    {
      "cell_type": "code",
      "source": [],
      "metadata": {
        "id": "fKA8YHNGjn85"
      },
      "id": "fKA8YHNGjn85",
      "execution_count": null,
      "outputs": []
    }
  ],
  "metadata": {
    "kernelspec": {
      "display_name": "Python 3 (ipykernel)",
      "language": "python",
      "name": "python3"
    },
    "language_info": {
      "codemirror_mode": {
        "name": "ipython",
        "version": 3
      },
      "file_extension": ".py",
      "mimetype": "text/x-python",
      "name": "python",
      "nbconvert_exporter": "python",
      "pygments_lexer": "ipython3",
      "version": "3.11.5"
    },
    "colab": {
      "provenance": []
    }
  },
  "nbformat": 4,
  "nbformat_minor": 5
}